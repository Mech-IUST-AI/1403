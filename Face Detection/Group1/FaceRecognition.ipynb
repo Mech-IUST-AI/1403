{
  "nbformat": 4,
  "nbformat_minor": 0,
  "metadata": {
    "colab": {
      "provenance": [],
      "gpuType": "T4"
    },
    "kernelspec": {
      "name": "python3",
      "display_name": "Python 3"
    },
    "language_info": {
      "name": "python"
    },
    "accelerator": "GPU"
  },
  "cells": [
    {
      "cell_type": "code",
      "source": [
        "# FaridReza Zohali"
      ],
      "metadata": {
        "id": "LJj-rY_m3Kr1"
      },
      "execution_count": null,
      "outputs": []
    },
    {
      "cell_type": "code",
      "execution_count": null,
      "metadata": {
        "id": "20JLW1VA6jOK"
      },
      "outputs": [],
      "source": [
        "# !pip install face_recognition"
      ]
    },
    {
      "cell_type": "code",
      "source": [
        "#import face_recognition as fr\n",
        "#import cv2\n",
        "#import os\n",
        "#from google.colab.patches import cv2_imshow"
      ],
      "metadata": {
        "id": "YJp2izV86q-N"
      },
      "execution_count": null,
      "outputs": []
    },
    {
      "cell_type": "code",
      "source": [
        "#target_image = fr.load_image_file(\"/content/20.jpg\")"
      ],
      "metadata": {
        "id": "-LNYixph7SHC"
      },
      "execution_count": null,
      "outputs": []
    },
    {
      "cell_type": "code",
      "source": [
        "#target_encoding = fr.face_encodings(target_image)"
      ],
      "metadata": {
        "id": "mgpmxyqD7bYF"
      },
      "execution_count": null,
      "outputs": []
    },
    {
      "cell_type": "code",
      "source": [
        "#def find_target_face():\n",
        "#  face_location = fr.face_locations(target_image)\n",
        "#\n",
        "#  for person in encode_faces('/content/people/'):\n",
        "#   encoded_face = person[0]\n",
        "#    filename = person[1]\n",
        "#\n",
        "#    is_target_face = fr.compare_faces(encoded_face, target_encoding, tolerance=0.55)\n",
        "#    print(f\"{is_target_face} {filename}\")\n",
        "#\n",
        "#    if face_location:\n",
        "#      face_number = 0\n",
        "#      for location in face_location:\n",
        "#        if is_target_face[face_number]:\n",
        "#          label = filename\n",
        "#          create_frame(location, label)\n",
        "\n",
        "#        face_number += 1\n",
        "\n",
        "#def create_frame(location, label):\n",
        "#  top, right, bottom, left = location\n",
        "\n",
        "#  cv2.rectangle(target_image, (left, top), (right, bottom), (255, 0, 0), 2)\n",
        "#  cv2.rectangle(target_image, (left, bottom + 20), (right, bottom), (255, 0, 0), cv2.FILLED)\n",
        "#  cv2.putText(target_image, label, (left + 3, bottom + 14), cv2.FONT_HERSHEY_DUPLEX, 0.4, (255, 255, 255), 1)"
      ],
      "metadata": {
        "id": "5JQgrXTW7fUl"
      },
      "execution_count": null,
      "outputs": []
    },
    {
      "cell_type": "code",
      "source": [
        "#def render_image():\n",
        "#  rgb_img = cv2.cvtColor(target_image, cv2.COLOR_BGR2RGB)\n",
        "#  cv2_imshow(rgb_img)\n",
        "#  cv2.waitKey(0)"
      ],
      "metadata": {
        "id": "kcNNPAfh7jrc"
      },
      "execution_count": null,
      "outputs": []
    },
    {
      "cell_type": "code",
      "source": [
        "#find_target_face()\n",
        "#render_image()"
      ],
      "metadata": {
        "id": "0EryiCzB7lsb"
      },
      "execution_count": null,
      "outputs": []
    }
  ]
}