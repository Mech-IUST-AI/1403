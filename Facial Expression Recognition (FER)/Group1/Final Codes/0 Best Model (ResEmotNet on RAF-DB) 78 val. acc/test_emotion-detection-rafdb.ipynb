{
 "cells": [
  {
   "cell_type": "code",
   "execution_count": 2,
   "metadata": {},
   "outputs": [],
   "source": [
    "import numpy as np\n",
    "import cv2\n",
    "from keras.models import load_model"
   ]
  },
  {
   "cell_type": "code",
   "execution_count": 3,
   "metadata": {},
   "outputs": [
    {
     "name": "stderr",
     "output_type": "stream",
     "text": [
      "WARNING:absl:Compiled the loaded model, but the compiled metrics have yet to be built. `model.compile_metrics` will be empty until you train or evaluate the model.\n"
     ]
    }
   ],
   "source": [
    "model = load_model('model_rafdb.h5')"
   ]
  },
  {
   "cell_type": "code",
   "execution_count": 4,
   "metadata": {},
   "outputs": [],
   "source": [
    "# Emotion labels for FER 2013 dataset\n",
    "emotion_labels = ['Surprise', 'Fear', 'Disgust', 'Happy', 'Sad', 'Angry', 'Neutral']"
   ]
  },
  {
   "cell_type": "code",
   "execution_count": 5,
   "metadata": {},
   "outputs": [],
   "source": [
    "# Function to preprocess the input image\n",
    "def preprocess_image(image_path):\n",
    "    # Load image in grayscale\n",
    "    img = cv2.imread(image_path, cv2.IMREAD_GRAYSCALE)\n",
    "    # Resize image to 48x48 (FER 2013 standard)\n",
    "    img = cv2.resize(img, (48, 48))\n",
    "    # Normalize pixel values\n",
    "    img = img / 255.0\n",
    "    # Expand dimensions to match model input shape (1, 48, 48, 1)\n",
    "    img = np.expand_dims(img, axis=-1)  # Add channel dimension\n",
    "    img = np.expand_dims(img, axis=0)  # Add batch dimension\n",
    "    return img"
   ]
  },
  {
   "cell_type": "code",
   "execution_count": 6,
   "metadata": {},
   "outputs": [],
   "source": [
    "# Function to predict emotion\n",
    "def predict_emotion(image_path):\n",
    "    # Preprocess the image\n",
    "    processed_img = preprocess_image(image_path)\n",
    "    # Get prediction\n",
    "    prediction = model.predict(processed_img)\n",
    "    # Get the index of the highest probability\n",
    "    emotion_idx = np.argmax(prediction)\n",
    "    # Get the corresponding label\n",
    "    emotion = emotion_labels[emotion_idx]\n",
    "    return emotion"
   ]
  },
  {
   "cell_type": "code",
   "execution_count": 7,
   "metadata": {},
   "outputs": [],
   "source": [
    "def predict_emotion_with_probabilities(image_path):\n",
    "    # Preprocess the image\n",
    "    processed_img = preprocess_image(image_path)\n",
    "    # Get prediction probabilities for all classes\n",
    "    predictions = model.predict(processed_img)[0]  # [0] to flatten the batch dimension\n",
    "    # Get the index of the highest probability\n",
    "    emotion_idx = np.argmax(predictions)\n",
    "    # Get the corresponding label\n",
    "    emotion = emotion_labels[emotion_idx]\n",
    "    # Display probabilities for each class\n",
    "    probabilities = {emotion_labels[i]: predictions[i] for i in range(len(emotion_labels))}\n",
    "    return emotion, probabilities"
   ]
  },
  {
   "cell_type": "code",
   "execution_count": 10,
   "metadata": {},
   "outputs": [
    {
     "name": "stdout",
     "output_type": "stream",
     "text": [
      "\u001b[1m1/1\u001b[0m \u001b[32m━━━━━━━━━━━━━━━━━━━━\u001b[0m\u001b[37m\u001b[0m \u001b[1m0s\u001b[0m 61ms/step\n",
      "The predicted emotion is: Sad\n",
      "Class probabilities:\n",
      "Surprise: 0.0083\n",
      "Fear: 0.0059\n",
      "Disgust: 0.0003\n",
      "Happy: 0.0025\n",
      "Sad: 0.7848\n",
      "Angry: 0.0014\n",
      "Neutral: 0.1968\n"
     ]
    }
   ],
   "source": [
    "# Example usage\n",
    "image_path = 'test.jpg'\n",
    "predicted_emotion, class_probabilities = predict_emotion_with_probabilities(image_path)\n",
    "print(f\"The predicted emotion is: {predicted_emotion}\")\n",
    "print(\"Class probabilities:\")\n",
    "for emotion, prob in class_probabilities.items():\n",
    "    print(f\"{emotion}: {prob:.4f}\")"
   ]
  },
  {
   "cell_type": "code",
   "execution_count": 9,
   "metadata": {},
   "outputs": [
    {
     "name": "stdout",
     "output_type": "stream",
     "text": [
      "\u001b[1m1/1\u001b[0m \u001b[32m━━━━━━━━━━━━━━━━━━━━\u001b[0m\u001b[37m\u001b[0m \u001b[1m0s\u001b[0m 58ms/step\n",
      "The predicted emotion is: Neutral\n"
     ]
    }
   ],
   "source": [
    "# Example usage\n",
    "image_path = 'neutral (4).png'\n",
    "predicted_emotion = predict_emotion(image_path)\n",
    "print(f\"The predicted emotion is: {predicted_emotion}\")"
   ]
  }
 ],
 "metadata": {
  "kernelspec": {
   "display_name": "Python 3",
   "language": "python",
   "name": "python3"
  },
  "language_info": {
   "codemirror_mode": {
    "name": "ipython",
    "version": 3
   },
   "file_extension": ".py",
   "mimetype": "text/x-python",
   "name": "python",
   "nbconvert_exporter": "python",
   "pygments_lexer": "ipython3",
   "version": "3.11.9"
  }
 },
 "nbformat": 4,
 "nbformat_minor": 2
}
