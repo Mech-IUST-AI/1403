{
 "cells": [
  {
   "cell_type": "code",
   "execution_count": 1,
   "id": "5877e1d9-dead-49d2-8a6f-41ef47fe88c9",
   "metadata": {},
   "outputs": [],
   "source": [
    "import os\n",
    "import time\n",
    "from typing import Dict\n",
    "\n",
    "import pandas as pd\n",
    "from PIL import Image\n",
    "from tqdm.auto import tqdm\n",
    "\n",
    "import torch\n",
    "import torch.nn as nn\n",
    "import torch.optim as optim\n",
    "import torch.nn.functional as F\n",
    "from torchvision import models, transforms\n",
    "from torch.utils.data import Dataset, DataLoader, random_split\n",
    "from torchvision.models import ResNet18_Weights"
   ]
  },
  {
   "cell_type": "code",
   "execution_count": 2,
   "id": "3367ec34-b1ec-4406-9922-3baccab33f56",
   "metadata": {},
   "outputs": [],
   "source": [
    "ROOT_DIR = \"/data/mostafa/rayan/notebooks/haji/affect-net/dataset\""
   ]
  },
  {
   "cell_type": "code",
   "execution_count": 3,
   "id": "3bce926d-d3e8-44c7-a35f-f50703a1a5dc",
   "metadata": {},
   "outputs": [],
   "source": [
    "class CustomDataset(Dataset):\n",
    "    def __init__(self, root_dir: str, transform) -> None:\n",
    "        self.root_dir: str = root_dir\n",
    "        self.transform = transform\n",
    "\n",
    "        path = os.path.join(root_dir, \"labels.csv\")\n",
    "        self.df = pd.read_csv(path, index_col=0)\n",
    "\n",
    "        self.classes = self.df.label.unique().tolist()\n",
    "        self.c2l = {c: i for i, c in enumerate(self.classes)}\n",
    "        self.l2c = {i: c for i, c in enumerate(self.classes)}\n",
    "\n",
    "    def load_image(self, image_path: str):\n",
    "        try:\n",
    "            image = Image.open(image_path).convert(\"RGB\")\n",
    "            return self.transform(image)\n",
    "        except (OSError, ValueError) as e:\n",
    "            return None\n",
    "\n",
    "    def __len__(self) -> int:\n",
    "        return len(self.df)\n",
    "        \n",
    "    def __getitem__(self, index: int):\n",
    "        row = self.df.iloc[index]\n",
    "        class_ = row[\"label\"]\n",
    "        image_sub_path = row[\"pth\"]\n",
    "\n",
    "        # load image\n",
    "        image_path = os.path.join(self.root_dir, image_sub_path)\n",
    "        image = self.load_image(image_path)\n",
    "        if image is None:\n",
    "            next_index = (index + 1) % len(self)\n",
    "            return self.__getitem__(index=next_index)\n",
    "        \n",
    "        # convert class to label\n",
    "        label = self.c2l[class_]\n",
    "        \n",
    "        return image, label"
   ]
  },
  {
   "cell_type": "markdown",
   "id": "a31388f6-cf5e-4bb5-aef3-3ccde56f13cf",
   "metadata": {},
   "source": [
    "# validate dataset"
   ]
  },
  {
   "cell_type": "code",
   "execution_count": 4,
   "id": "22d517db-f3c1-4137-9bb5-1655a98df1a5",
   "metadata": {},
   "outputs": [
    {
     "name": "stdout",
     "output_type": "stream",
     "text": [
      "class size: 8\n",
      "torch.Size([4, 3, 224, 224]) torch.Size([4])\n"
     ]
    }
   ],
   "source": [
    "transform = transforms.Compose([\n",
    "    transforms.Resize((224, 224)),\n",
    "    transforms.ToTensor(),\n",
    "    transforms.Normalize(\n",
    "        mean=[0.48145466, 0.4578275, 0.40821073],\n",
    "        std=[0.26862954, 0.26130258, 0.27577711]\n",
    "    )\n",
    "])\n",
    "\n",
    "dataset = CustomDataset(root_dir=ROOT_DIR, transform=transform)\n",
    "dataloader = DataLoader(dataset=dataset, batch_size=4)\n",
    "\n",
    "features, labels = next(iter(dataloader))\n",
    "print(\"class size:\", len(dataset.classes))\n",
    "print(features.shape, labels.shape)"
   ]
  },
  {
   "cell_type": "markdown",
   "id": "c853d892-ea77-47bc-9be9-bc88cd0a58b3",
   "metadata": {},
   "source": [
    "# Model Defenition"
   ]
  },
  {
   "cell_type": "code",
   "execution_count": 5,
   "id": "b6b06250-a845-4dfb-9b2e-bfa118745382",
   "metadata": {},
   "outputs": [],
   "source": [
    "class Model(nn.Module):\n",
    "    def __init__(self, num_classes: int):\n",
    "        super().__init__()\n",
    "        self.resnet = models.resnet18(weights=ResNet18_Weights.DEFAULT)\n",
    "        self.resnet.fc = nn.Linear(self.resnet.fc.in_features, num_classes)\n",
    "        self.softmax = nn.Softmax(dim=-1)\n",
    "\n",
    "    def forward(self, x):\n",
    "        return self.softmax(self.resnet(x))"
   ]
  },
  {
   "cell_type": "markdown",
   "id": "d9a0f55a-220e-4a53-a072-cdb9deb0a187",
   "metadata": {},
   "source": [
    "# validate model"
   ]
  },
  {
   "cell_type": "code",
   "execution_count": 6,
   "id": "f281107e-f019-487a-87fa-81e5ff0364d1",
   "metadata": {},
   "outputs": [
    {
     "name": "stdout",
     "output_type": "stream",
     "text": [
      "Output shape: torch.Size([16, 8])\n"
     ]
    }
   ],
   "source": [
    "model = Model(num_classes=8)\n",
    "\n",
    "sample_input = torch.randn(16, 3, 224, 224)\n",
    "output = model(sample_input)\n",
    "print(\"Output shape:\", output.shape)"
   ]
  },
  {
   "cell_type": "markdown",
   "id": "31822adc-e724-4244-b281-8f87aac3abe8",
   "metadata": {},
   "source": [
    "# Train model"
   ]
  },
  {
   "cell_type": "code",
   "execution_count": 7,
   "id": "4421c9fc-ddb5-4718-bdc8-57fbc9a48d65",
   "metadata": {},
   "outputs": [],
   "source": [
    "def validate_model(model, dataloader, criterion, device=\"cpu\"):\n",
    "    model.eval()  # Set model to evaluation mode\n",
    "    running_loss = 0.0\n",
    "    correct = 0\n",
    "    total = 0\n",
    "\n",
    "    with torch.no_grad():  # Disable gradient calculation\n",
    "        for inputs, labels in dataloader:\n",
    "            inputs, labels = inputs.to(device), labels.to(device)\n",
    "\n",
    "            # Forward pass\n",
    "            outputs = model(inputs)\n",
    "            loss = criterion(outputs, labels)\n",
    "\n",
    "            # Accumulate loss\n",
    "            running_loss += loss.item()\n",
    "\n",
    "            # Compute accuracy\n",
    "            _, predicted = torch.max(outputs, 1)\n",
    "            total += labels.size(0)\n",
    "            correct += (predicted == labels).sum().item()\n",
    "\n",
    "    avg_loss = running_loss / len(dataloader)\n",
    "    accuracy = 100 * correct / total\n",
    "    return avg_loss, accuracy"
   ]
  },
  {
   "cell_type": "code",
   "execution_count": null,
   "id": "b548f7a1-59f4-42a2-be08-5f827cf8760c",
   "metadata": {},
   "outputs": [
    {
     "name": "stdout",
     "output_type": "stream",
     "text": [
      "\n",
      "=========== epoch-1 ============\n"
     ]
    },
    {
     "data": {
      "application/vnd.jupyter.widget-view+json": {
       "model_id": "6e15e600d162479cac2c7b414d0ced6e",
       "version_major": 2,
       "version_minor": 0
      },
      "text/plain": [
       "  0%|          | 0/50 [00:00<?, ?it/s]"
      ]
     },
     "metadata": {},
     "output_type": "display_data"
    },
    {
     "name": "stdout",
     "output_type": "stream",
     "text": [
      "train ce: 0.0000 val ce: 1.8640 val acc: 39.53%\n",
      "\n",
      "=========== epoch-2 ============\n"
     ]
    },
    {
     "data": {
      "application/vnd.jupyter.widget-view+json": {
       "model_id": "817f70f45ce343db95ebeb9bc30f4d15",
       "version_major": 2,
       "version_minor": 0
      },
      "text/plain": [
       "  0%|          | 0/50 [00:00<?, ?it/s]"
      ]
     },
     "metadata": {},
     "output_type": "display_data"
    },
    {
     "name": "stdout",
     "output_type": "stream",
     "text": [
      "train ce: 0.0000 val ce: 1.8000 val acc: 46.59%\n",
      "\n",
      "=========== epoch-3 ============\n"
     ]
    },
    {
     "data": {
      "application/vnd.jupyter.widget-view+json": {
       "model_id": "8de33dfd4ac64b05a4c6a9af0bcd6d56",
       "version_major": 2,
       "version_minor": 0
      },
      "text/plain": [
       "  0%|          | 0/50 [00:00<?, ?it/s]"
      ]
     },
     "metadata": {},
     "output_type": "display_data"
    },
    {
     "name": "stdout",
     "output_type": "stream",
     "text": [
      "train ce: 0.0000 val ce: 1.7381 val acc: 53.09%\n",
      "\n",
      "=========== epoch-4 ============\n"
     ]
    },
    {
     "data": {
      "application/vnd.jupyter.widget-view+json": {
       "model_id": "12480515006c4f4b8896e50fce4bc089",
       "version_major": 2,
       "version_minor": 0
      },
      "text/plain": [
       "  0%|          | 0/50 [00:00<?, ?it/s]"
      ]
     },
     "metadata": {},
     "output_type": "display_data"
    },
    {
     "name": "stdout",
     "output_type": "stream",
     "text": [
      "train ce: 0.0000 val ce: 1.7306 val acc: 54.33%\n",
      "\n",
      "=========== epoch-5 ============\n"
     ]
    },
    {
     "data": {
      "application/vnd.jupyter.widget-view+json": {
       "model_id": "10e8ad135af949c489716ed9dfb1aaa7",
       "version_major": 2,
       "version_minor": 0
      },
      "text/plain": [
       "  0%|          | 0/50 [00:00<?, ?it/s]"
      ]
     },
     "metadata": {},
     "output_type": "display_data"
    },
    {
     "name": "stdout",
     "output_type": "stream",
     "text": [
      "train ce: 0.0000 val ce: 1.7089 val acc: 56.03%\n",
      "\n",
      "=========== epoch-6 ============\n"
     ]
    },
    {
     "data": {
      "application/vnd.jupyter.widget-view+json": {
       "model_id": "3b0ea2612e7f49dabc35487522ae66ec",
       "version_major": 2,
       "version_minor": 0
      },
      "text/plain": [
       "  0%|          | 0/50 [00:00<?, ?it/s]"
      ]
     },
     "metadata": {},
     "output_type": "display_data"
    },
    {
     "name": "stdout",
     "output_type": "stream",
     "text": [
      "train ce: 0.0000 val ce: 1.6685 val acc: 60.65%\n",
      "\n",
      "=========== epoch-7 ============\n"
     ]
    },
    {
     "data": {
      "application/vnd.jupyter.widget-view+json": {
       "model_id": "68ff5b1abe61463f971952d4f9d4a7ef",
       "version_major": 2,
       "version_minor": 0
      },
      "text/plain": [
       "  0%|          | 0/50 [00:00<?, ?it/s]"
      ]
     },
     "metadata": {},
     "output_type": "display_data"
    },
    {
     "name": "stdout",
     "output_type": "stream",
     "text": [
      "train ce: 0.0000 val ce: 1.6562 val acc: 61.36%\n",
      "\n",
      "=========== epoch-8 ============\n"
     ]
    },
    {
     "data": {
      "application/vnd.jupyter.widget-view+json": {
       "model_id": "c00446c0d0094a0eacc279965023e661",
       "version_major": 2,
       "version_minor": 0
      },
      "text/plain": [
       "  0%|          | 0/50 [00:00<?, ?it/s]"
      ]
     },
     "metadata": {},
     "output_type": "display_data"
    },
    {
     "name": "stdout",
     "output_type": "stream",
     "text": [
      "train ce: 0.0000 val ce: 1.7287 val acc: 54.15%\n",
      "\n",
      "=========== epoch-9 ============\n"
     ]
    },
    {
     "data": {
      "application/vnd.jupyter.widget-view+json": {
       "model_id": "3b023910bf7442579fd8759265668a49",
       "version_major": 2,
       "version_minor": 0
      },
      "text/plain": [
       "  0%|          | 0/50 [00:00<?, ?it/s]"
      ]
     },
     "metadata": {},
     "output_type": "display_data"
    },
    {
     "name": "stdout",
     "output_type": "stream",
     "text": [
      "train ce: 0.0000 val ce: 1.6809 val acc: 58.66%\n",
      "\n",
      "=========== epoch-10 ===========\n"
     ]
    },
    {
     "data": {
      "application/vnd.jupyter.widget-view+json": {
       "model_id": "c3ee667e7203480893a67d92ffbe7643",
       "version_major": 2,
       "version_minor": 0
      },
      "text/plain": [
       "  0%|          | 0/50 [00:00<?, ?it/s]"
      ]
     },
     "metadata": {},
     "output_type": "display_data"
    }
   ],
   "source": [
    "batch_size = 512\n",
    "num_epochs = 10\n",
    "num_classes = 8\n",
    "split_ratio = 0.9\n",
    "weight_decay = 1e-4\n",
    "learning_rate = 1e-3\n",
    "device = \"cuda:1\" if torch.cuda.is_available() else \"cpu\"\n",
    "\n",
    "# Dataset and DataLoader\n",
    "transform = transforms.Compose([\n",
    "    transforms.RandomRotation(degrees=(-30, 30)),\n",
    "    transforms.RandomResizedCrop(224, scale=(0.8, 1)),\n",
    "    transforms.Resize((224, 224)),\n",
    "    transforms.ToTensor(),\n",
    "    transforms.Normalize(\n",
    "        mean=[0.48145466, 0.4578275, 0.40821073],\n",
    "        std=[0.26862954, 0.26130258, 0.27577711]\n",
    "    )\n",
    "])\n",
    "dataset = CustomDataset(root_dir=ROOT_DIR, transform=transform)\n",
    "train_size = int(len(dataset) * split_ratio)\n",
    "val_size = len(dataset) - train_size\n",
    "\n",
    "train_set, val_set = random_split(dataset, [train_size, val_size])\n",
    "train_loader = DataLoader(train_set, batch_size=batch_size, shuffle=True)\n",
    "val_loader = DataLoader(val_set, batch_size=batch_size, shuffle=False)\n",
    "\n",
    "# Model, loss function, and optimizer\n",
    "model = Model(num_classes=8)\n",
    "model = model.to(device)\n",
    "criterion = nn.CrossEntropyLoss()\n",
    "optimizer = optim.Adam(model.parameters(), lr=learning_rate, weight_decay=weight_decay)\n",
    "\n",
    "# Training with validation\n",
    "for epoch in range(num_epochs):\n",
    "    print()\n",
    "    print(f\" epoch-{epoch + 1} \".center(32, \"=\"))\n",
    "    model.train()  # Set model to training mode\n",
    "    running_loss, running_samples = 0, 0\n",
    "\n",
    "    # train\n",
    "    progress_bar = tqdm(train_loader)\n",
    "    for inputs, labels in progress_bar:\n",
    "        inputs, labels = inputs.to(device), labels.to(device)\n",
    "\n",
    "        # Forward pass\n",
    "        outputs = model(inputs)\n",
    "        loss = criterion(outputs, labels)\n",
    "        \n",
    "        # Backward pass and optimization\n",
    "        optimizer.zero_grad()\n",
    "        loss.backward()\n",
    "        optimizer.step()\n",
    "        \n",
    "        # Accumulate training loss\n",
    "        running_loss += loss.item()\n",
    "        running_samples += len(labels)\n",
    "        running_loss = running_loss / running_samples\n",
    "\n",
    "        # Update progress bar\n",
    "        postfix_str = f\"ce: {running_loss:.6f}\"\n",
    "        progress_bar.set_postfix_str(postfix_str)\n",
    "\n",
    "    # Calculate training loss\n",
    "    train_loss = running_loss / len(train_loader)\n",
    "\n",
    "    # Validate the model\n",
    "    val_loss, val_accuracy = validate_model(model, val_loader, criterion, device)\n",
    "\n",
    "    # # Update progress bar\n",
    "    postfix_str = f\"train ce: {train_loss:.4f} val ce: {val_loss:.4f} val acc: {val_accuracy:.2f}%\"\n",
    "    print(postfix_str)"
   ]
  },
  {
   "cell_type": "markdown",
   "id": "6c51dc28-1847-491d-9315-03650765f0e9",
   "metadata": {},
   "source": [
    "# Save model weights"
   ]
  },
  {
   "cell_type": "code",
   "execution_count": null,
   "id": "4c2195d3-2ff9-4cd3-a010-d10b9a620749",
   "metadata": {},
   "outputs": [],
   "source": [
    "torch.save(model.state_dict(), \"model.pt\")"
   ]
  },
  {
   "cell_type": "markdown",
   "id": "4c225068-8366-4237-ac42-d0acfe76c5fc",
   "metadata": {},
   "source": [
    "# Inference"
   ]
  },
  {
   "cell_type": "code",
   "execution_count": null,
   "id": "13135af8-6b9b-4a67-80f2-d0bea8bfa1cb",
   "metadata": {},
   "outputs": [],
   "source": [
    "CWD_DIR = \"/data/mostafa/rayan//notebooks/haji/affect-net\"\n",
    "MODEL_PATH = f\"{CWD_DIR}/model.pt\"\n",
    "IMAGE_PATH = f\"{CWD_DIR}/dataset/anger/image0000006.jpg\"\n",
    "\n",
    "model.load_state_dict(torch.load(MODEL_PATH, map_location=device, weights_only=True))\n",
    "model.to(device)\n",
    "\n",
    "image = dataset.load_image(IMAGE_PATH)\n",
    "image = image.unsqueeze(0).float().to(device)\n",
    "\n",
    "model.eval()\n",
    "with torch.no_grad():\n",
    "    output = model(image)\n",
    "    prediction = torch.argmax(output, dim=-1)\n",
    "    class_ = dataset.l2c[prediction.item()]\n",
    "    \n",
    "print(output)\n",
    "print(prediction)\n",
    "print(class_)"
   ]
  },
  {
   "cell_type": "code",
   "execution_count": null,
   "id": "f3262f18-a6dd-4b78-ab2d-383ecbfea7bf",
   "metadata": {},
   "outputs": [],
   "source": []
  },
  {
   "cell_type": "code",
   "execution_count": null,
   "id": "e2d75621-251c-4ee9-a241-df54e5b73c65",
   "metadata": {},
   "outputs": [],
   "source": []
  }
 ],
 "metadata": {
  "kernelspec": {
   "display_name": "Python 3 (ipykernel)",
   "language": "python",
   "name": "python3"
  },
  "language_info": {
   "codemirror_mode": {
    "name": "ipython",
    "version": 3
   },
   "file_extension": ".py",
   "mimetype": "text/x-python",
   "name": "python",
   "nbconvert_exporter": "python",
   "pygments_lexer": "ipython3",
   "version": "3.10.12"
  }
 },
 "nbformat": 4,
 "nbformat_minor": 5
}
