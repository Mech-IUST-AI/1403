{
 "cells": [
  {
   "cell_type": "code",
   "execution_count": null,
   "metadata": {},
   "outputs": [],
   "source": [
    "import cv2\n",
    "import numpy as np\n",
    "import time\n",
    "from tensorflow.keras.models import load_model"
   ]
  },
  {
   "cell_type": "code",
   "execution_count": null,
   "metadata": {},
   "outputs": [],
   "source": [
    "# Load the pre-trained model\n",
    "model = load_model('model_rafdb.h5')  # Specify the path to your model\n",
    "CATAGORIES = ['Surprise', 'Fear', 'Disgust', 'Happy', 'Sad', 'Angry', 'Neutral']  # Model categories"
   ]
  },
  {
   "cell_type": "code",
   "execution_count": null,
   "metadata": {},
   "outputs": [],
   "source": [
    "# Load the DNN face detection model\n",
    "face_net = cv2.dnn.readNetFromCaffe('deploy.prototxt', 'res10_300x300_ssd_iter_140000.caffemodel')"
   ]
  },
  {
   "cell_type": "code",
   "execution_count": null,
   "metadata": {},
   "outputs": [],
   "source": [
    "# IP webcam address\n",
    "ip_camera_url = 'http://192.168.120.145:8080/video'\n",
    "cap = cv2.VideoCapture(ip_camera_url)"
   ]
  },
  {
   "cell_type": "code",
   "execution_count": null,
   "metadata": {},
   "outputs": [],
   "source": [
    "frame_skip = 10  # Process every 10th frame\n",
    "frame_count = 0\n",
    "\n",
    "while True:\n",
    "    ret, frame = cap.read()\n",
    "    if not ret:\n",
    "        print(\"Problem receiving frames from the IP camera\")\n",
    "        break\n",
    "\n",
    "    frame_count += 1\n",
    "    if frame_count % frame_skip != 0:\n",
    "        continue\n",
    "\n",
    "    # Resize frame for faster processing\n",
    "    frame = cv2.resize(frame, (1240, 720))\n",
    "    frame_rgb = cv2.cvtColor(frame, cv2.COLOR_BGR2RGB)\n",
    "\n",
    "    # Use DNN model for face detection\n",
    "    h, w = frame.shape[:2]\n",
    "    blob = cv2.dnn.blobFromImage(frame, 1.0, (300, 300), (104.0, 177.0, 123.0), swapRB=False)\n",
    "    face_net.setInput(blob)\n",
    "    detections = face_net.forward()\n",
    "\n",
    "    for i in range(detections.shape[2]):\n",
    "        confidence = detections[0, 0, i, 2]\n",
    "        if confidence > 0.6:  # Minimum confidence for detection\n",
    "            box = detections[0, 0, i, 3:7] * np.array([w, h, w, h])\n",
    "            (x, y, x1, y1) = box.astype(\"int\")\n",
    "\n",
    "            # Crop face from the frame\n",
    "            face_image = frame_rgb[y:y1, x:x1]\n",
    "\n",
    "            # Ensure the face was correctly extracted\n",
    "            if face_image.shape[0] == 0 or face_image.shape[1] == 0:\n",
    "                continue\n",
    "\n",
    "            # Resize the face for the model\n",
    "            face_image_resized = cv2.resize(face_image, (48, 48))\n",
    "            face_image_resized = cv2.cvtColor(face_image_resized, cv2.COLOR_RGB2GRAY)\n",
    "            face_image_resized = np.expand_dims(face_image_resized, axis=-1)\n",
    "            face_image_resized = face_image_resized.astype('float32') / 255.0\n",
    "            img_pred = np.expand_dims(face_image_resized, axis=0)\n",
    "\n",
    "            # Predict emotions\n",
    "            rslt = model.predict(img_pred)\n",
    "            label = CATAGORIES[np.argmax(rslt)]\n",
    "            confidence = np.max(rslt) * 100\n",
    "\n",
    "            # Display bounding box and predicted label\n",
    "            cv2.rectangle(frame, (x, y), (x1, y1), (0, 255, 0), 2)\n",
    "            cv2.putText(frame, f'{label} ({confidence:.2f}%)', (x, y - 10),\n",
    "                        cv2.FONT_HERSHEY_SIMPLEX, 1, (0, 255, 0), 2, cv2.LINE_AA)\n",
    "\n",
    "    # Show frame with predictions\n",
    "    cv2.imshow('IP Camera Face Detection', frame)\n",
    "\n",
    "    if cv2.waitKey(1) & 0xFF == ord('q'):\n",
    "        break\n",
    "\n",
    "cap.release()\n",
    "cv2.destroyAllWindows()"
   ]
  }
 ],
 "metadata": {
  "language_info": {
   "name": "python"
  }
 },
 "nbformat": 4,
 "nbformat_minor": 2
}
