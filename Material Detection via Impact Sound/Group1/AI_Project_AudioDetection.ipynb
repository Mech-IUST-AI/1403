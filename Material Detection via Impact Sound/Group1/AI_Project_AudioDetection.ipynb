{
  "cells": [
    {
      "cell_type": "markdown",
      "source": [
        "#AI Final Project\n",
        "##Material Classification Via Audio\n",
        "---\n",
        "###Mohammad Hossein Ebrahimi\n",
        "###Amir Hossein Jamehbozorg\n",
        "###Sobhan Mashhadi"
      ],
      "metadata": {
        "id": "uidzTbCc5IdE"
      }
    },
    {
      "cell_type": "markdown",
      "metadata": {
        "id": "dKW_LPE-zARf"
      },
      "source": [
        "**کتابخانه**"
      ]
    },
    {
      "cell_type": "code",
      "execution_count": 1,
      "metadata": {
        "id": "yXU0X7f2zARl"
      },
      "outputs": [],
      "source": [
        "import librosa\n",
        "import numpy as np\n",
        "import tensorflow as tf\n",
        "from tensorflow.keras.models import Sequential\n",
        "from tensorflow.keras.layers import Dense\n",
        "from sklearn.model_selection import train_test_split\n",
        "from sklearn.preprocessing import LabelEncoder\n",
        "import os\n",
        "from tensorflow.keras.preprocessing.sequence import pad_sequences\n",
        "from tensorflow.keras.layers import Conv1D, MaxPooling1D, Flatten\n",
        "from sklearn.utils.class_weight import compute_class_weight\n",
        "from tensorflow.keras.callbacks import EarlyStopping\n",
        "from sklearn.metrics import confusion_matrix, classification_report\n",
        "import matplotlib.pyplot as plt\n",
        "import seaborn as sns\n",
        "from sklearn.utils.class_weight import compute_class_weight"
      ]
    },
    {
      "cell_type": "markdown",
      "source": [
        "اضافه کردن اکانت گوگل"
      ],
      "metadata": {
        "id": "9NIF3but0bH1"
      }
    },
    {
      "cell_type": "code",
      "source": [
        "from google.colab import drive\n",
        "drive.mount('/content/drive')"
      ],
      "metadata": {
        "colab": {
          "base_uri": "https://localhost:8080/"
        },
        "id": "Ti0mVrr-0XES",
        "outputId": "c71b3aa6-ffa7-49fe-d90e-3e06778a17f0"
      },
      "execution_count": 2,
      "outputs": [
        {
          "output_type": "stream",
          "name": "stdout",
          "text": [
            "Mounted at /content/drive\n"
          ]
        }
      ]
    },
    {
      "cell_type": "markdown",
      "metadata": {
        "id": "kFzg2HADzARn"
      },
      "source": [
        "   *** حذف نویز و در صورت نیاز نرمال‌سازی سیگنال صوتی به محدوده [-1, 1]  برای استفاده از ویژگی هایی مانند فرکانس میانگین**"
      ]
    },
    {
      "cell_type": "code",
      "execution_count": 3,
      "metadata": {
        "id": "4_CxSrw6zARo"
      },
      "outputs": [],
      "source": [
        "def preprocess_audio(audio, sr):\n",
        "\n",
        "    audio = librosa.effects.preemphasis(audio)\n",
        "\n",
        "    # audio = librosa.util.normalize(audio)\n",
        "\n",
        "    return audio"
      ]
    },
    {
      "cell_type": "markdown",
      "metadata": {
        "id": "JmYW_QtczARo"
      },
      "source": [
        "**استخراج ویژگی ها بر اساس نیاز**"
      ]
    },
    {
      "cell_type": "code",
      "execution_count": 4,
      "metadata": {
        "id": "ytF0AnuzzARp"
      },
      "outputs": [],
      "source": [
        "# استخراج ویژگی‌های MFCC و سایر ویژگی‌ها از یک فایل صوتی\n",
        "def extract_features(file_path):\n",
        "    # بارگذاری فایل صوتی\n",
        "    audio, sr = librosa.load(file_path, sr=None)\n",
        "\n",
        "    # استخراج ویژگی‌های MFCC\n",
        "    mfcc = librosa.feature.mfcc(y=audio, sr=sr, n_mfcc=13)\n",
        "    mfcc_mean = np.mean(mfcc, axis=1)\n",
        "\n",
        "    # استخراج ویژگی‌های Spectral Contrast\n",
        "    spectral_contrast = librosa.feature.spectral_contrast(y=audio, sr=sr)\n",
        "    spectral_contrast_mean = np.mean(spectral_contrast, axis=1)\n",
        "\n",
        "    # استخراج ویژگی‌های Chroma\n",
        "    chroma = librosa.feature.chroma_stft(y=audio, sr=sr)\n",
        "    chroma_mean = np.mean(chroma, axis=1)\n",
        "\n",
        "\n",
        "    #Zero Crossing Rate (ZCR): تعداد عبورهای صفر سیگنال.\n",
        "    mel_spec = librosa.feature.melspectrogram(y=audio, sr=sr)\n",
        "    mel_spec_mean = np.mean(mel_spec, axis=1)\n",
        "\n",
        "\n",
        "    # ویژگی‌های Zero Crossing Rate\n",
        "    zcr = librosa.feature.zero_crossing_rate(audio)\n",
        "    zcr_mean = np.mean(zcr)\n",
        "\n",
        "  # ویژگی‌های فلاتر\n",
        "    flatness = librosa.feature.spectral_flatness(y=audio)\n",
        "    flatness_mean = np.mean(flatness)\n",
        "\n",
        "    # # ویژگی‌های انرژی\n",
        "    # energy = np.sum(audio**2) / len(audio)\n",
        "\n",
        "    # # ویژگی‌های رول‌آف فرکانسی\n",
        "    # spectral_rolloff = librosa.feature.spectral_rolloff(y=audio, sr=sr, roll_percent=0.85)\n",
        "    # spectral_rolloff_mean = np.mean(spectral_rolloff)\n",
        "\n",
        "    # # ویژگی‌های عرض باند\n",
        "    # bandwidth = librosa.feature.spectral_bandwidth(y=audio, sr=sr)\n",
        "    # bandwidth_mean = np.mean(bandwidth)\n",
        "\n",
        "\n",
        "    # #استخراج فرکانس غالب (Dominant Frequency)\n",
        "    # fft = np.fft.fft(audio)\n",
        "    # freqs = np.fft.fftfreq(len(fft), 1/sr)\n",
        "    # magnitude = np.abs(fft)\n",
        "    # dominant_freq = freqs[np.argmax(magnitude[:len(magnitude)//2])]  # فرکانس غالب\n",
        "\n",
        "    # # استخراج میانگین فرکانس (Mean Frequency)\n",
        "    # weighted_sum = np.sum(freqs[:len(magnitude)//2] * magnitude[:len(magnitude)//2])\n",
        "    # mean_freq = weighted_sum / np.sum(magnitude[:len(magnitude)//2])\n",
        "\n",
        "\n",
        "    #------------------------------------------------------------------------------------------------------------------------------------\n",
        "\n",
        "    features = np.hstack([\n",
        "         mfcc_mean,\n",
        "         spectral_contrast_mean,     # کنتراست طیفی\n",
        "         chroma_mean ,\n",
        "         mel_spec_mean  ,             #تعداد عبورهای صفر سیگنال\n",
        "         zcr_mean   ,                 # کروماتیک\n",
        "         flatness_mean,               # فلاتر طیفی\n",
        "\n",
        "        #energy,                      # انرژی\n",
        "        # spectral_rolloff_mean,      # رول‌آف فرکانسی\n",
        "        # bandwidth_mean,             # عرض باند\n",
        "        # dominant_freq,              # فرکانس غالب\n",
        "        #mean_freq                    # میانگین فرکانس\n",
        "    ])\n",
        "\n",
        "    return features\n",
        "\n",
        "\n",
        "\n"
      ]
    },
    {
      "cell_type": "markdown",
      "metadata": {
        "id": "wDJzdNKlzARp"
      },
      "source": [
        "**کشش زمانی در صورت کمبود دیتاست**"
      ]
    },
    {
      "cell_type": "code",
      "execution_count": 5,
      "metadata": {
        "id": "1vWvrvWdzARq"
      },
      "outputs": [],
      "source": [
        "# def augment_time_stretch(audio, sr, rates=[0.8, 1.2]):\n",
        "#     augmented_audios = []\n",
        "#     for rate in rates:\n",
        "#         augmented_audios.append(librosa.effects.time_stretch(audio, rate))\n",
        "#     return augmented_audios"
      ]
    },
    {
      "cell_type": "markdown",
      "metadata": {
        "id": "RQ1C-CMlzARr"
      },
      "source": [
        "**کلاس بندی**"
      ]
    },
    {
      "cell_type": "code",
      "execution_count": 6,
      "metadata": {
        "id": "u6LKHJu8zARr"
      },
      "outputs": [],
      "source": [
        "def load_data(audio_folder):\n",
        "    features = []\n",
        "    labels = []\n",
        "    filenames = []\n",
        "\n",
        "    # خواندن تمام فایل‌ها در پوشه\n",
        "    for label in os.listdir(audio_folder):\n",
        "        label_folder = os.path.join(audio_folder, label)\n",
        "        if os.path.isdir(label_folder):\n",
        "            for file in os.listdir(label_folder):\n",
        "                if file.endswith(\".wav\"):\n",
        "                    file_path = os.path.join(label_folder, file)\n",
        "                    feature = extract_features(file_path)\n",
        "                    features.append(feature)\n",
        "                    labels.append(label)\n",
        "                    filenames.append(file)\n",
        "\n",
        "\n",
        "    return np.array(features), np.array(labels), filenames\n",
        "\n",
        "\n",
        "\n",
        "\n"
      ]
    },
    {
      "cell_type": "markdown",
      "metadata": {
        "id": "uv29FEkSzARs"
      },
      "source": [
        "# بارگذاری داده‌ها از پوشه داده‌های صوتی\n"
      ]
    },
    {
      "cell_type": "code",
      "execution_count": 7,
      "metadata": {
        "id": "yLhMW9JLzARs"
      },
      "outputs": [],
      "source": [
        "audio_folder = r\"/content/drive/MyDrive/Colab Notebooks/AI_Project_AudioDetection/finally_data\"\n",
        "X, y , filenames = load_data(audio_folder)"
      ]
    },
    {
      "cell_type": "markdown",
      "metadata": {
        "id": "EUYLWPuLzARs"
      },
      "source": [
        "# تبدیل اسم پوشه ها به اعداد برای آموزش شبکه عصبی\n"
      ]
    },
    {
      "cell_type": "code",
      "execution_count": 8,
      "metadata": {
        "id": "gn3v2NL2zARs"
      },
      "outputs": [],
      "source": [
        "encoder = LabelEncoder()\n",
        "y_encoded = encoder.fit_transform(y)"
      ]
    },
    {
      "cell_type": "markdown",
      "metadata": {
        "id": "HkodBNcczARt"
      },
      "source": [
        "**آموزش شبکه عصبی**"
      ]
    },
    {
      "cell_type": "code",
      "execution_count": 9,
      "metadata": {
        "colab": {
          "base_uri": "https://localhost:8080/"
        },
        "id": "hzoC1mrYzARt",
        "outputId": "568bdcb3-998e-49e5-c7f0-ec82faec7d50"
      },
      "outputs": [
        {
          "output_type": "stream",
          "name": "stderr",
          "text": [
            "/usr/local/lib/python3.10/dist-packages/keras/src/layers/convolutional/base_conv.py:107: UserWarning: Do not pass an `input_shape`/`input_dim` argument to a layer. When using Sequential models, prefer using an `Input(shape)` object as the first layer in the model instead.\n",
            "  super().__init__(activity_regularizer=activity_regularizer, **kwargs)\n"
          ]
        },
        {
          "output_type": "stream",
          "name": "stdout",
          "text": [
            "Epoch 1/60\n",
            "\u001b[1m4/4\u001b[0m \u001b[32m━━━━━━━━━━━━━━━━━━━━\u001b[0m\u001b[37m\u001b[0m \u001b[1m3s\u001b[0m 126ms/step - accuracy: 0.1227 - loss: 3.1891 - val_accuracy: 0.2000 - val_loss: 1.7227\n",
            "Epoch 2/60\n",
            "\u001b[1m4/4\u001b[0m \u001b[32m━━━━━━━━━━━━━━━━━━━━\u001b[0m\u001b[37m\u001b[0m \u001b[1m1s\u001b[0m 35ms/step - accuracy: 0.2228 - loss: 1.9221 - val_accuracy: 0.4667 - val_loss: 1.2280\n",
            "Epoch 3/60\n",
            "\u001b[1m4/4\u001b[0m \u001b[32m━━━━━━━━━━━━━━━━━━━━\u001b[0m\u001b[37m\u001b[0m \u001b[1m0s\u001b[0m 19ms/step - accuracy: 0.5271 - loss: 1.3443 - val_accuracy: 0.7333 - val_loss: 1.0652\n",
            "Epoch 4/60\n",
            "\u001b[1m4/4\u001b[0m \u001b[32m━━━━━━━━━━━━━━━━━━━━\u001b[0m\u001b[37m\u001b[0m \u001b[1m0s\u001b[0m 29ms/step - accuracy: 0.5162 - loss: 1.2287 - val_accuracy: 0.7667 - val_loss: 0.6424\n",
            "Epoch 5/60\n",
            "\u001b[1m4/4\u001b[0m \u001b[32m━━━━━━━━━━━━━━━━━━━━\u001b[0m\u001b[37m\u001b[0m \u001b[1m0s\u001b[0m 62ms/step - accuracy: 0.7392 - loss: 0.7303 - val_accuracy: 0.9000 - val_loss: 0.5799\n",
            "Epoch 6/60\n",
            "\u001b[1m4/4\u001b[0m \u001b[32m━━━━━━━━━━━━━━━━━━━━\u001b[0m\u001b[37m\u001b[0m \u001b[1m0s\u001b[0m 23ms/step - accuracy: 0.8270 - loss: 0.6277 - val_accuracy: 0.8333 - val_loss: 0.5423\n",
            "Epoch 7/60\n",
            "\u001b[1m4/4\u001b[0m \u001b[32m━━━━━━━━━━━━━━━━━━━━\u001b[0m\u001b[37m\u001b[0m \u001b[1m0s\u001b[0m 30ms/step - accuracy: 0.8137 - loss: 0.5816 - val_accuracy: 0.9000 - val_loss: 0.3785\n",
            "Epoch 8/60\n",
            "\u001b[1m4/4\u001b[0m \u001b[32m━━━━━━━━━━━━━━━━━━━━\u001b[0m\u001b[37m\u001b[0m \u001b[1m0s\u001b[0m 33ms/step - accuracy: 0.8176 - loss: 0.4873 - val_accuracy: 0.8667 - val_loss: 0.3094\n",
            "Epoch 9/60\n",
            "\u001b[1m4/4\u001b[0m \u001b[32m━━━━━━━━━━━━━━━━━━━━\u001b[0m\u001b[37m\u001b[0m \u001b[1m0s\u001b[0m 41ms/step - accuracy: 0.7968 - loss: 0.4350 - val_accuracy: 0.9000 - val_loss: 0.2909\n",
            "Epoch 10/60\n",
            "\u001b[1m4/4\u001b[0m \u001b[32m━━━━━━━━━━━━━━━━━━━━\u001b[0m\u001b[37m\u001b[0m \u001b[1m0s\u001b[0m 38ms/step - accuracy: 0.8781 - loss: 0.3795 - val_accuracy: 0.9000 - val_loss: 0.2846\n",
            "Epoch 11/60\n",
            "\u001b[1m4/4\u001b[0m \u001b[32m━━━━━━━━━━━━━━━━━━━━\u001b[0m\u001b[37m\u001b[0m \u001b[1m0s\u001b[0m 33ms/step - accuracy: 0.9070 - loss: 0.3270 - val_accuracy: 0.9333 - val_loss: 0.2565\n",
            "Epoch 12/60\n",
            "\u001b[1m4/4\u001b[0m \u001b[32m━━━━━━━━━━━━━━━━━━━━\u001b[0m\u001b[37m\u001b[0m \u001b[1m0s\u001b[0m 27ms/step - accuracy: 0.9067 - loss: 0.2874 - val_accuracy: 0.9333 - val_loss: 0.2180\n",
            "Epoch 13/60\n",
            "\u001b[1m4/4\u001b[0m \u001b[32m━━━━━━━━━━━━━━━━━━━━\u001b[0m\u001b[37m\u001b[0m \u001b[1m0s\u001b[0m 36ms/step - accuracy: 0.9224 - loss: 0.2624 - val_accuracy: 0.9333 - val_loss: 0.2230\n",
            "Epoch 14/60\n",
            "\u001b[1m4/4\u001b[0m \u001b[32m━━━━━━━━━━━━━━━━━━━━\u001b[0m\u001b[37m\u001b[0m \u001b[1m0s\u001b[0m 30ms/step - accuracy: 0.9458 - loss: 0.2512 - val_accuracy: 0.9333 - val_loss: 0.1948\n",
            "Epoch 15/60\n",
            "\u001b[1m4/4\u001b[0m \u001b[32m━━━━━━━━━━━━━━━━━━━━\u001b[0m\u001b[37m\u001b[0m \u001b[1m0s\u001b[0m 85ms/step - accuracy: 0.9403 - loss: 0.2118 - val_accuracy: 0.9667 - val_loss: 0.1606\n",
            "Epoch 16/60\n",
            "\u001b[1m4/4\u001b[0m \u001b[32m━━━━━━━━━━━━━━━━━━━━\u001b[0m\u001b[37m\u001b[0m \u001b[1m0s\u001b[0m 44ms/step - accuracy: 0.9450 - loss: 0.2345 - val_accuracy: 0.9333 - val_loss: 0.2449\n",
            "Epoch 17/60\n",
            "\u001b[1m4/4\u001b[0m \u001b[32m━━━━━━━━━━━━━━━━━━━━\u001b[0m\u001b[37m\u001b[0m \u001b[1m0s\u001b[0m 38ms/step - accuracy: 0.9372 - loss: 0.2088 - val_accuracy: 0.9000 - val_loss: 0.1499\n",
            "Epoch 18/60\n",
            "\u001b[1m4/4\u001b[0m \u001b[32m━━━━━━━━━━━━━━━━━━━━\u001b[0m\u001b[37m\u001b[0m \u001b[1m0s\u001b[0m 39ms/step - accuracy: 0.9401 - loss: 0.1998 - val_accuracy: 0.9333 - val_loss: 0.1568\n",
            "Epoch 19/60\n",
            "\u001b[1m4/4\u001b[0m \u001b[32m━━━━━━━━━━━━━━━━━━━━\u001b[0m\u001b[37m\u001b[0m \u001b[1m0s\u001b[0m 42ms/step - accuracy: 0.9508 - loss: 0.1808 - val_accuracy: 0.9333 - val_loss: 0.1871\n",
            "Epoch 20/60\n",
            "\u001b[1m4/4\u001b[0m \u001b[32m━━━━━━━━━━━━━━━━━━━━\u001b[0m\u001b[37m\u001b[0m \u001b[1m0s\u001b[0m 48ms/step - accuracy: 0.9484 - loss: 0.1698 - val_accuracy: 0.9000 - val_loss: 0.1307\n",
            "Epoch 21/60\n",
            "\u001b[1m4/4\u001b[0m \u001b[32m━━━━━━━━━━━━━━━━━━━━\u001b[0m\u001b[37m\u001b[0m \u001b[1m0s\u001b[0m 68ms/step - accuracy: 0.9471 - loss: 0.1571 - val_accuracy: 0.9333 - val_loss: 0.1540\n",
            "Epoch 22/60\n",
            "\u001b[1m4/4\u001b[0m \u001b[32m━━━━━━━━━━━━━━━━━━━━\u001b[0m\u001b[37m\u001b[0m \u001b[1m0s\u001b[0m 61ms/step - accuracy: 0.9528 - loss: 0.1617 - val_accuracy: 0.9333 - val_loss: 0.1274\n",
            "Epoch 23/60\n",
            "\u001b[1m4/4\u001b[0m \u001b[32m━━━━━━━━━━━━━━━━━━━━\u001b[0m\u001b[37m\u001b[0m \u001b[1m0s\u001b[0m 40ms/step - accuracy: 0.9411 - loss: 0.1463 - val_accuracy: 0.9333 - val_loss: 0.1424\n",
            "Epoch 24/60\n",
            "\u001b[1m4/4\u001b[0m \u001b[32m━━━━━━━━━━━━━━━━━━━━\u001b[0m\u001b[37m\u001b[0m \u001b[1m0s\u001b[0m 36ms/step - accuracy: 0.9549 - loss: 0.1354 - val_accuracy: 0.9333 - val_loss: 0.1303\n",
            "Epoch 25/60\n",
            "\u001b[1m4/4\u001b[0m \u001b[32m━━━━━━━━━━━━━━━━━━━━\u001b[0m\u001b[37m\u001b[0m \u001b[1m0s\u001b[0m 30ms/step - accuracy: 0.9750 - loss: 0.1297 - val_accuracy: 0.9333 - val_loss: 0.1168\n",
            "Epoch 26/60\n",
            "\u001b[1m4/4\u001b[0m \u001b[32m━━━━━━━━━━━━━━━━━━━━\u001b[0m\u001b[37m\u001b[0m \u001b[1m0s\u001b[0m 18ms/step - accuracy: 0.9442 - loss: 0.1320 - val_accuracy: 0.9333 - val_loss: 0.1181\n",
            "Epoch 27/60\n",
            "\u001b[1m4/4\u001b[0m \u001b[32m━━━━━━━━━━━━━━━━━━━━\u001b[0m\u001b[37m\u001b[0m \u001b[1m0s\u001b[0m 19ms/step - accuracy: 0.9466 - loss: 0.1407 - val_accuracy: 0.9333 - val_loss: 0.1242\n",
            "Epoch 28/60\n",
            "\u001b[1m4/4\u001b[0m \u001b[32m━━━━━━━━━━━━━━━━━━━━\u001b[0m\u001b[37m\u001b[0m \u001b[1m0s\u001b[0m 27ms/step - accuracy: 0.9823 - loss: 0.1116 - val_accuracy: 1.0000 - val_loss: 0.0994\n",
            "Epoch 29/60\n",
            "\u001b[1m4/4\u001b[0m \u001b[32m━━━━━━━━━━━━━━━━━━━━\u001b[0m\u001b[37m\u001b[0m \u001b[1m0s\u001b[0m 24ms/step - accuracy: 0.9627 - loss: 0.1293 - val_accuracy: 1.0000 - val_loss: 0.0950\n",
            "Epoch 30/60\n",
            "\u001b[1m4/4\u001b[0m \u001b[32m━━━━━━━━━━━━━━━━━━━━\u001b[0m\u001b[37m\u001b[0m \u001b[1m0s\u001b[0m 23ms/step - accuracy: 0.9737 - loss: 0.1212 - val_accuracy: 0.9333 - val_loss: 0.1695\n",
            "Epoch 31/60\n",
            "\u001b[1m4/4\u001b[0m \u001b[32m━━━━━━━━━━━━━━━━━━━━\u001b[0m\u001b[37m\u001b[0m \u001b[1m0s\u001b[0m 26ms/step - accuracy: 0.9528 - loss: 0.1229 - val_accuracy: 0.9667 - val_loss: 0.0807\n",
            "Epoch 32/60\n",
            "\u001b[1m4/4\u001b[0m \u001b[32m━━━━━━━━━━━━━━━━━━━━\u001b[0m\u001b[37m\u001b[0m \u001b[1m0s\u001b[0m 20ms/step - accuracy: 0.9406 - loss: 0.1420 - val_accuracy: 0.9333 - val_loss: 0.1145\n",
            "Epoch 33/60\n",
            "\u001b[1m4/4\u001b[0m \u001b[32m━━━━━━━━━━━━━━━━━━━━\u001b[0m\u001b[37m\u001b[0m \u001b[1m0s\u001b[0m 56ms/step - accuracy: 0.9469 - loss: 0.1270 - val_accuracy: 0.9333 - val_loss: 0.1026\n",
            "Epoch 34/60\n",
            "\u001b[1m4/4\u001b[0m \u001b[32m━━━━━━━━━━━━━━━━━━━━\u001b[0m\u001b[37m\u001b[0m \u001b[1m0s\u001b[0m 34ms/step - accuracy: 0.9698 - loss: 0.0990 - val_accuracy: 1.0000 - val_loss: 0.0811\n",
            "Epoch 35/60\n",
            "\u001b[1m4/4\u001b[0m \u001b[32m━━━━━━━━━━━━━━━━━━━━\u001b[0m\u001b[37m\u001b[0m \u001b[1m0s\u001b[0m 20ms/step - accuracy: 0.9763 - loss: 0.1067 - val_accuracy: 1.0000 - val_loss: 0.0740\n",
            "Epoch 36/60\n",
            "\u001b[1m4/4\u001b[0m \u001b[32m━━━━━━━━━━━━━━━━━━━━\u001b[0m\u001b[37m\u001b[0m \u001b[1m0s\u001b[0m 37ms/step - accuracy: 0.9656 - loss: 0.0984 - val_accuracy: 0.9333 - val_loss: 0.1302\n",
            "Epoch 37/60\n",
            "\u001b[1m4/4\u001b[0m \u001b[32m━━━━━━━━━━━━━━━━━━━━\u001b[0m\u001b[37m\u001b[0m \u001b[1m0s\u001b[0m 43ms/step - accuracy: 0.9648 - loss: 0.1048 - val_accuracy: 1.0000 - val_loss: 0.0714\n",
            "Epoch 38/60\n",
            "\u001b[1m4/4\u001b[0m \u001b[32m━━━━━━━━━━━━━━━━━━━━\u001b[0m\u001b[37m\u001b[0m \u001b[1m0s\u001b[0m 39ms/step - accuracy: 0.9880 - loss: 0.0804 - val_accuracy: 1.0000 - val_loss: 0.0693\n",
            "Epoch 39/60\n",
            "\u001b[1m4/4\u001b[0m \u001b[32m━━━━━━━━━━━━━━━━━━━━\u001b[0m\u001b[37m\u001b[0m \u001b[1m0s\u001b[0m 38ms/step - accuracy: 1.0000 - loss: 0.0672 - val_accuracy: 0.9333 - val_loss: 0.1137\n",
            "Epoch 40/60\n",
            "\u001b[1m4/4\u001b[0m \u001b[32m━━━━━━━━━━━━━━━━━━━━\u001b[0m\u001b[37m\u001b[0m \u001b[1m0s\u001b[0m 58ms/step - accuracy: 0.9625 - loss: 0.0976 - val_accuracy: 0.9667 - val_loss: 0.0793\n",
            "Epoch 41/60\n",
            "\u001b[1m4/4\u001b[0m \u001b[32m━━━━━━━━━━━━━━━━━━━━\u001b[0m\u001b[37m\u001b[0m \u001b[1m1s\u001b[0m 45ms/step - accuracy: 0.9945 - loss: 0.0740 - val_accuracy: 1.0000 - val_loss: 0.0636\n",
            "Epoch 42/60\n",
            "\u001b[1m4/4\u001b[0m \u001b[32m━━━━━━━━━━━━━━━━━━━━\u001b[0m\u001b[37m\u001b[0m \u001b[1m0s\u001b[0m 36ms/step - accuracy: 0.9914 - loss: 0.0881 - val_accuracy: 1.0000 - val_loss: 0.0686\n",
            "Epoch 43/60\n",
            "\u001b[1m4/4\u001b[0m \u001b[32m━━━━━━━━━━━━━━━━━━━━\u001b[0m\u001b[37m\u001b[0m \u001b[1m0s\u001b[0m 71ms/step - accuracy: 1.0000 - loss: 0.0768 - val_accuracy: 1.0000 - val_loss: 0.0660\n",
            "Epoch 44/60\n",
            "\u001b[1m4/4\u001b[0m \u001b[32m━━━━━━━━━━━━━━━━━━━━\u001b[0m\u001b[37m\u001b[0m \u001b[1m0s\u001b[0m 46ms/step - accuracy: 0.9914 - loss: 0.0638 - val_accuracy: 1.0000 - val_loss: 0.0698\n",
            "Epoch 45/60\n",
            "\u001b[1m4/4\u001b[0m \u001b[32m━━━━━━━━━━━━━━━━━━━━\u001b[0m\u001b[37m\u001b[0m \u001b[1m0s\u001b[0m 31ms/step - accuracy: 1.0000 - loss: 0.0700 - val_accuracy: 0.9667 - val_loss: 0.0805\n",
            "Epoch 46/60\n",
            "\u001b[1m4/4\u001b[0m \u001b[32m━━━━━━━━━━━━━━━━━━━━\u001b[0m\u001b[37m\u001b[0m \u001b[1m0s\u001b[0m 32ms/step - accuracy: 0.9914 - loss: 0.0675 - val_accuracy: 1.0000 - val_loss: 0.0579\n",
            "Epoch 47/60\n",
            "\u001b[1m4/4\u001b[0m \u001b[32m━━━━━━━━━━━━━━━━━━━━\u001b[0m\u001b[37m\u001b[0m \u001b[1m0s\u001b[0m 42ms/step - accuracy: 0.9852 - loss: 0.0630 - val_accuracy: 1.0000 - val_loss: 0.0560\n",
            "Epoch 48/60\n",
            "\u001b[1m4/4\u001b[0m \u001b[32m━━━━━━━━━━━━━━━━━━━━\u001b[0m\u001b[37m\u001b[0m \u001b[1m0s\u001b[0m 56ms/step - accuracy: 0.9880 - loss: 0.0647 - val_accuracy: 0.9667 - val_loss: 0.0775\n",
            "Epoch 49/60\n",
            "\u001b[1m4/4\u001b[0m \u001b[32m━━━━━━━━━━━━━━━━━━━━\u001b[0m\u001b[37m\u001b[0m \u001b[1m0s\u001b[0m 33ms/step - accuracy: 1.0000 - loss: 0.0630 - val_accuracy: 1.0000 - val_loss: 0.0491\n",
            "Epoch 50/60\n",
            "\u001b[1m4/4\u001b[0m \u001b[32m━━━━━━━━━━━━━━━━━━━━\u001b[0m\u001b[37m\u001b[0m \u001b[1m0s\u001b[0m 36ms/step - accuracy: 0.9852 - loss: 0.0675 - val_accuracy: 1.0000 - val_loss: 0.0633\n",
            "Epoch 51/60\n",
            "\u001b[1m4/4\u001b[0m \u001b[32m━━━━━━━━━━━━━━━━━━━━\u001b[0m\u001b[37m\u001b[0m \u001b[1m0s\u001b[0m 41ms/step - accuracy: 0.9966 - loss: 0.0475 - val_accuracy: 1.0000 - val_loss: 0.0583\n",
            "Epoch 52/60\n",
            "\u001b[1m4/4\u001b[0m \u001b[32m━━━━━━━━━━━━━━━━━━━━\u001b[0m\u001b[37m\u001b[0m \u001b[1m0s\u001b[0m 33ms/step - accuracy: 1.0000 - loss: 0.0602 - val_accuracy: 1.0000 - val_loss: 0.0451\n",
            "Epoch 53/60\n",
            "\u001b[1m4/4\u001b[0m \u001b[32m━━━━━━━━━━━━━━━━━━━━\u001b[0m\u001b[37m\u001b[0m \u001b[1m0s\u001b[0m 32ms/step - accuracy: 0.9966 - loss: 0.0485 - val_accuracy: 0.9667 - val_loss: 0.0657\n",
            "Epoch 54/60\n",
            "\u001b[1m4/4\u001b[0m \u001b[32m━━━━━━━━━━━━━━━━━━━━\u001b[0m\u001b[37m\u001b[0m \u001b[1m0s\u001b[0m 49ms/step - accuracy: 0.9732 - loss: 0.0575 - val_accuracy: 0.9333 - val_loss: 0.0832\n",
            "Epoch 55/60\n",
            "\u001b[1m4/4\u001b[0m \u001b[32m━━━━━━━━━━━━━━━━━━━━\u001b[0m\u001b[37m\u001b[0m \u001b[1m0s\u001b[0m 39ms/step - accuracy: 0.9852 - loss: 0.0571 - val_accuracy: 1.0000 - val_loss: 0.0424\n",
            "Epoch 56/60\n",
            "\u001b[1m4/4\u001b[0m \u001b[32m━━━━━━━━━━━━━━━━━━━━\u001b[0m\u001b[37m\u001b[0m \u001b[1m0s\u001b[0m 34ms/step - accuracy: 0.9852 - loss: 0.0559 - val_accuracy: 1.0000 - val_loss: 0.0504\n",
            "Epoch 57/60\n",
            "\u001b[1m4/4\u001b[0m \u001b[32m━━━━━━━━━━━━━━━━━━━━\u001b[0m\u001b[37m\u001b[0m \u001b[1m0s\u001b[0m 22ms/step - accuracy: 0.9945 - loss: 0.0464 - val_accuracy: 1.0000 - val_loss: 0.0527\n",
            "Epoch 58/60\n",
            "\u001b[1m4/4\u001b[0m \u001b[32m━━━━━━━━━━━━━━━━━━━━\u001b[0m\u001b[37m\u001b[0m \u001b[1m0s\u001b[0m 17ms/step - accuracy: 0.9966 - loss: 0.0393 - val_accuracy: 1.0000 - val_loss: 0.0423\n",
            "Epoch 59/60\n",
            "\u001b[1m4/4\u001b[0m \u001b[32m━━━━━━━━━━━━━━━━━━━━\u001b[0m\u001b[37m\u001b[0m \u001b[1m0s\u001b[0m 18ms/step - accuracy: 1.0000 - loss: 0.0505 - val_accuracy: 1.0000 - val_loss: 0.0572\n",
            "Epoch 60/60\n",
            "\u001b[1m4/4\u001b[0m \u001b[32m━━━━━━━━━━━━━━━━━━━━\u001b[0m\u001b[37m\u001b[0m \u001b[1m0s\u001b[0m 28ms/step - accuracy: 1.0000 - loss: 0.0437 - val_accuracy: 1.0000 - val_loss: 0.0409\n",
            "\u001b[1m1/1\u001b[0m \u001b[32m━━━━━━━━━━━━━━━━━━━━\u001b[0m\u001b[37m\u001b[0m \u001b[1m0s\u001b[0m 33ms/step - accuracy: 1.0000 - loss: 0.0409\n",
            "Test Accuracy: 100.00%\n"
          ]
        }
      ],
      "source": [
        "X_train, X_test, y_train, y_test, filenames_train, filenames_test = train_test_split(X, y_encoded, filenames, test_size=0.2, random_state=41\n",
        "                                                                                     )\n",
        "\n",
        "#شبکه عصبی پیچیده\n",
        "model = Sequential()\n",
        "model.add(Conv1D(32, kernel_size=3, activation='relu', input_shape=(X_train.shape[1], 1)))\n",
        "model.add(MaxPooling1D(pool_size=2))\n",
        "model.add(Flatten())\n",
        "model.add(Dense(32, activation='relu'))\n",
        "model.add(Dense(len(np.unique(y_encoded)), activation='softmax'))\n",
        "\n",
        "\n",
        "model.compile(optimizer='adam', loss='sparse_categorical_crossentropy', metrics=['accuracy'])\n",
        "\n",
        "# آموزش مدل\n",
        "class_weights = compute_class_weight('balanced', classes=np.unique(y_train), y=y_train)\n",
        "class_weights_dict = dict(enumerate(class_weights))\n",
        "\n",
        "# آموزش مدل و ذخیره تاریخچه آموزش\n",
        "history = model.fit(X_train, y_train, epochs=60, batch_size=32, validation_data=(X_test, y_test), class_weight=class_weights_dict)#, callbacks=[early_stopping])\n",
        "\n",
        "# ارزیابی مدل\n",
        "loss, accuracy = model.evaluate(X_test, y_test)\n",
        "print(f\"Test Accuracy: {accuracy*100:.2f}%\")\n",
        "\n",
        "\n"
      ]
    },
    {
      "cell_type": "markdown",
      "metadata": {
        "id": "LMBrqaRezARu"
      },
      "source": [
        "**نمودار تغیرات دقت بر اساس epoch**"
      ]
    },
    {
      "cell_type": "code",
      "execution_count": 10,
      "metadata": {
        "colab": {
          "base_uri": "https://localhost:8080/",
          "height": 449
        },
        "id": "R3BJInhezARu",
        "outputId": "fd3d1c4f-927e-4e68-9f57-4ea106b517f5"
      },
      "outputs": [
        {
          "output_type": "display_data",
          "data": {
            "text/plain": [
              "<Figure size 640x480 with 1 Axes>"
            ],
            "image/png": "[encoded data removed]"
          },
          "metadata": {}
        }
      ],
      "source": [
        "# رسم نمودار دقت بر حسب epoch‌ها\n",
        "plt.plot(history.history['accuracy'], label='Training Accuracy')\n",
        "plt.plot(history.history['val_accuracy'], label='Validation Accuracy')\n",
        "plt.xlabel('Epochs')\n",
        "plt.ylabel('Accuracy')\n",
        "plt.legend()\n",
        "plt.show()"
      ]
    },
    {
      "cell_type": "markdown",
      "metadata": {
        "id": "WOA_XdxVzARv"
      },
      "source": [
        "**نمودار برای دیدن دقت کد بر اساس داده های تست در قالب  ماتریس کانفیوژن**"
      ]
    },
    {
      "cell_type": "code",
      "execution_count": 11,
      "metadata": {
        "colab": {
          "base_uri": "https://localhost:8080/",
          "height": 1000
        },
        "id": "jZYvYDxpzARv",
        "outputId": "ab53c615-a17e-4449-fdd2-0929346bdc09"
      },
      "outputs": [
        {
          "output_type": "stream",
          "name": "stdout",
          "text": [
            "Class carton: Example filename -> Carton_3 - Copy.wav\n",
            "Class Glass: Example filename -> Glass_55.wav\n",
            "Class metal: Example filename -> Metal_68.wav\n",
            "Class Pelastic: Example filename -> Plastic_55.wav\n",
            "Class Roll: Example filename -> Roll_9.wav\n",
            "Class Seramic: Example filename -> Seramic_09.wav\n",
            "Class Wood: Example filename -> Wood_4.wav\n",
            "\u001b[1m1/1\u001b[0m \u001b[32m━━━━━━━━━━━━━━━━━━━━\u001b[0m\u001b[37m\u001b[0m \u001b[1m0s\u001b[0m 182ms/step\n",
            "              precision    recall  f1-score   support\n",
            "\n",
            "      carton       1.00      1.00      1.00         6\n",
            "       Glass       1.00      1.00      1.00         3\n",
            "       metal       1.00      1.00      1.00         4\n",
            "    Pelastic       1.00      1.00      1.00         1\n",
            "        Roll       1.00      1.00      1.00         6\n",
            "     Seramic       1.00      1.00      1.00         6\n",
            "        Wood       1.00      1.00      1.00         4\n",
            "\n",
            "    accuracy                           1.00        30\n",
            "   macro avg       1.00      1.00      1.00        30\n",
            "weighted avg       1.00      1.00      1.00        30\n",
            "\n"
          ]
        },
        {
          "output_type": "display_data",
          "data": {
            "text/plain": [
              "<Figure size 1000x700 with 2 Axes>"
            ],
            "image/png": "[encoded data removed]"
          },
          "metadata": {}
        }
      ],
      "source": [
        "class_names = ['carton', 'Glass', 'metal', 'Pelastic', 'Roll', 'Seramic', 'Wood']  # نام کلاس‌ها\n",
        "\n",
        "#  نمایش یکی از نمونه‌های نام فایل برای هر کلاس برای پیدا کردن نام دسته\n",
        "for label in np.unique(y_test):\n",
        "    sample_idx = np.where(y_test == label)[0][0]  # گرفتن ایندکس اولین نمونه\n",
        "    print(f\"Class {class_names[label]}: Example filename -> {filenames_test[sample_idx]}\")\n",
        "\n",
        "# پیش‌بینی دسته‌ها\n",
        "y_pred = np.argmax(model.predict(X_test), axis=1)\n",
        "\n",
        "# نمایش ماتریس\n",
        "cm = confusion_matrix(y_test, y_pred)\n",
        "\n",
        "\n",
        "#گزارش عملکرد\n",
        "print(classification_report(y_test, y_pred, target_names=class_names))\n",
        "plt.figure(figsize=(10, 7))\n",
        "sns.heatmap(cm, annot=True, fmt='d', cmap='Blues', xticklabels=class_names, yticklabels=class_names)\n",
        "plt.xlabel('Predicted Labels')\n",
        "plt.ylabel('True Labels')\n",
        "plt.title('Confusion Matrix')\n",
        "plt.show()\n"
      ]
    },
    {
      "cell_type": "markdown",
      "metadata": {
        "id": "p0TGFKGTzARv"
      },
      "source": [
        "**نمایش تست ها**"
      ]
    },
    {
      "cell_type": "code",
      "execution_count": 12,
      "metadata": {
        "colab": {
          "base_uri": "https://localhost:8080/"
        },
        "id": "FHYQTzwBzARv",
        "outputId": "ed8b6e97-3526-497b-f3a6-1fce4a40fe26"
      },
      "outputs": [
        {
          "output_type": "stream",
          "name": "stdout",
          "text": [
            "\u001b[1m1/1\u001b[0m \u001b[32m━━━━━━━━━━━━━━━━━━━━\u001b[0m\u001b[37m\u001b[0m \u001b[1m0s\u001b[0m 47ms/step\n",
            "Sample 1:\n",
            "File: Metal_68.wav\n",
            "True label: Metal\n",
            "Predicted label: Metal\n",
            "--------------------------------------------------\n",
            "Sample 2:\n",
            "File: Metal_66.wav\n",
            "True label: Metal\n",
            "Predicted label: Metal\n",
            "--------------------------------------------------\n",
            "Sample 3:\n",
            "File: Metal_54.wav\n",
            "True label: Metal\n",
            "Predicted label: Metal\n",
            "--------------------------------------------------\n",
            "Sample 4:\n",
            "File: Metal_57.wav\n",
            "True label: Metal\n",
            "Predicted label: Metal\n",
            "--------------------------------------------------\n",
            "Sample 5:\n",
            "File: Wood_4.wav\n",
            "True label: Wood\n",
            "Predicted label: Wood\n",
            "--------------------------------------------------\n",
            "Sample 6:\n",
            "File: Seramic_09.wav\n",
            "True label: Seramic\n",
            "Predicted label: Seramic\n",
            "--------------------------------------------------\n",
            "Sample 7:\n",
            "File: Carton_3 - Copy.wav\n",
            "True label: Carton\n",
            "Predicted label: Carton\n",
            "--------------------------------------------------\n",
            "Sample 8:\n",
            "File: Roll_9.wav\n",
            "True label: Roll\n",
            "Predicted label: Roll\n",
            "--------------------------------------------------\n",
            "Sample 9:\n",
            "File: Seramic_12 - Copy.wav\n",
            "True label: Seramic\n",
            "Predicted label: Seramic\n",
            "--------------------------------------------------\n",
            "Sample 10:\n",
            "File: Wood_13.wav\n",
            "True label: Wood\n",
            "Predicted label: Wood\n",
            "--------------------------------------------------\n",
            "Sample 11:\n",
            "File: Carton_6 - Copy.wav\n",
            "True label: Carton\n",
            "Predicted label: Carton\n",
            "--------------------------------------------------\n",
            "Sample 12:\n",
            "File: Glass_55.wav\n",
            "True label: Glass\n",
            "Predicted label: Glass\n",
            "--------------------------------------------------\n",
            "Sample 13:\n",
            "File: Carton_13 - Copy (2).wav\n",
            "True label: Carton\n",
            "Predicted label: Carton\n",
            "--------------------------------------------------\n",
            "Sample 14:\n",
            "File: Seramic_08.wav\n",
            "True label: Seramic\n",
            "Predicted label: Seramic\n",
            "--------------------------------------------------\n",
            "Sample 15:\n",
            "File: Carton_5.wav\n",
            "True label: Carton\n",
            "Predicted label: Carton\n",
            "--------------------------------------------------\n",
            "Sample 16:\n",
            "File: Glass_6 - Copy.wav\n",
            "True label: Glass\n",
            "Predicted label: Glass\n",
            "--------------------------------------------------\n",
            "Sample 17:\n",
            "File: Seramic_08 - Copy.wav\n",
            "True label: Seramic\n",
            "Predicted label: Seramic\n",
            "--------------------------------------------------\n",
            "Sample 18:\n",
            "File: Roll_3 - Copy.wav\n",
            "True label: Roll\n",
            "Predicted label: Roll\n",
            "--------------------------------------------------\n",
            "Sample 19:\n",
            "File: Roll_6 - Copy.wav\n",
            "True label: Roll\n",
            "Predicted label: Roll\n",
            "--------------------------------------------------\n",
            "Sample 20:\n",
            "File: Carton_14.wav\n",
            "True label: Carton\n",
            "Predicted label: Carton\n",
            "--------------------------------------------------\n",
            "Sample 21:\n",
            "File: Carton_14 - Copy.wav\n",
            "True label: Carton\n",
            "Predicted label: Carton\n",
            "--------------------------------------------------\n",
            "Sample 22:\n",
            "File: Roll_2.wav\n",
            "True label: Roll\n",
            "Predicted label: Roll\n",
            "--------------------------------------------------\n",
            "Sample 23:\n",
            "File: Plastic_55.wav\n",
            "True label: Pelastic\n",
            "Predicted label: Pelastic\n",
            "--------------------------------------------------\n",
            "Sample 24:\n",
            "File: Wood_1.wav\n",
            "True label: Wood\n",
            "Predicted label: Wood\n",
            "--------------------------------------------------\n",
            "Sample 25:\n",
            "File: Wood_38.wav\n",
            "True label: Wood\n",
            "Predicted label: Wood\n",
            "--------------------------------------------------\n",
            "Sample 26:\n",
            "File: Seramic_02.wav\n",
            "True label: Seramic\n",
            "Predicted label: Seramic\n",
            "--------------------------------------------------\n",
            "Sample 27:\n",
            "File: Glass_57 - Copy.wav\n",
            "True label: Glass\n",
            "Predicted label: Glass\n",
            "--------------------------------------------------\n",
            "Sample 28:\n",
            "File: Roll_5.wav\n",
            "True label: Roll\n",
            "Predicted label: Roll\n",
            "--------------------------------------------------\n",
            "Sample 29:\n",
            "File: Roll_7 - Copy.wav\n",
            "True label: Roll\n",
            "Predicted label: Roll\n",
            "--------------------------------------------------\n",
            "Sample 30:\n",
            "File: Seramic_12.wav\n",
            "True label: Seramic\n",
            "Predicted label: Seramic\n",
            "--------------------------------------------------\n"
          ]
        }
      ],
      "source": [
        "# پیش‌بینی برچسب جنسیت\n",
        "predictions = model.predict(X_test)\n",
        "\n",
        "# تبدیل پیش‌بینی‌ها به برچسب‌های اصلی\n",
        "predicted_labels = encoder.inverse_transform(np.argmax(predictions, axis=1))\n",
        "true_labels = encoder.inverse_transform(y_test)\n",
        "\n",
        "\n",
        "#نمایش تست\n",
        "num_samples = max(10, len(X_test))\n",
        "for i in range(num_samples):\n",
        "    print(f\"Sample {i+1}:\")\n",
        "    print(f\"File: {filenames_test[i]}\")\n",
        "    print(f\"True label: {true_labels[i]}\")\n",
        "    print(f\"Predicted label: {predicted_labels[i]}\")\n",
        "    print(\"-\" * 50)"
      ]
    },
    {
      "cell_type": "markdown",
      "metadata": {
        "id": "t-5CFhvEzARw"
      },
      "source": [
        "**نمایش 3 پیشبینی با بیشترین احتمال**"
      ]
    },
    {
      "cell_type": "code",
      "execution_count": 13,
      "metadata": {
        "id": "bQuUOVnbzARw"
      },
      "outputs": [],
      "source": [
        "def predict_sound_type_with_reasons(file_path):\n",
        "    # بارگذاری فایل صوتی\n",
        "    audio, sr = librosa.load(file_path, sr=None)\n",
        "\n",
        "    # اعمال حذف نویز\n",
        "    audio = preprocess_audio(audio, sr)\n",
        "\n",
        "    # استخراج ویژگی‌ها از فایل صوتی جدید\n",
        "    features = extract_features(file_path)\n",
        "\n",
        "    # تغییر شکل ویژگی‌ها به صورت مناسب برای مدل\n",
        "    features = features.reshape(1, -1)\n",
        "\n",
        "    # پیش‌بینی با مدل\n",
        "    predictions = model.predict(features)\n",
        "\n",
        "    # سه پیش‌بینی برتر و درصد‌هایشان\n",
        "    top_3_indices = np.argsort(predictions[0])[::-1][:3]  # ایندکس‌های سه پیش‌بینی برتر\n",
        "    top_3_probabilities = predictions[0][top_3_indices]  # درصد شباهت سه پیش‌بینی برتر\n",
        "\n",
        "    # تبدیل ایندکس‌ها به نام جنس\n",
        "    top_3_names = encoder.inverse_transform(top_3_indices)\n",
        "\n",
        "    # دلایل انتخاب (بر اساس ویژگی‌های برجسته)\n",
        "    dominant_features = features[0]  # ویژگی‌های ورودی\n",
        "    important_features = np.argsort(dominant_features)[::-1][:7]  # سه ویژگی مهم\n",
        "\n",
        "    reasons = [\n",
        "        f\"Feature {i} with value {dominant_features[i]:.4f}\"\n",
        "        for i in important_features\n",
        "    ]\n",
        "\n",
        "    return {\n",
        "        \"Top Predictions\": [\n",
        "            {\"Type\": name, \"Similarity\": f\"{prob*100:.2f}%\", \"Reason\": reasons}\n",
        "            for name, prob in zip(top_3_names, top_3_probabilities)\n",
        "        ]\n",
        "    }"
      ]
    },
    {
      "cell_type": "code",
      "source": [
        "# تست مدل با فایل صوتی جدید\n",
        "test_file = r\"/content/drive/MyDrive/Colab Notebooks/AI_Project_AudioDetection/test/در قوری.wav\"  # مسیر به فایل صوتی تست شما\n",
        "result = predict_sound_type_with_reasons(test_file)\n",
        "\n",
        "# نمایش سه پیش‌بینی برتر\n",
        "for idx, prediction in enumerate(result[\"Top Predictions\"], start=1):\n",
        "    print(f\"Prediction {idx}:\")\n",
        "    print(f\"  Type: {prediction['Type']}\")\n",
        "    print(f\"  Similarity: {prediction['Similarity']}\")\n",
        "    print()\n",
        "\n",
        "print(f\"  Reasons: {', '.join(prediction['Reason'])}\")"
      ],
      "metadata": {
        "colab": {
          "base_uri": "https://localhost:8080/"
        },
        "id": "9_aimw9-2kKP",
        "outputId": "a84475d7-ab78-4fb5-c1df-0d8a96d220fe"
      },
      "execution_count": 15,
      "outputs": [
        {
          "output_type": "stream",
          "name": "stdout",
          "text": [
            "\u001b[1m1/1\u001b[0m \u001b[32m━━━━━━━━━━━━━━━━━━━━\u001b[0m\u001b[37m\u001b[0m \u001b[1m0s\u001b[0m 44ms/step\n",
            "Prediction 1:\n",
            "  Type: Metal\n",
            "  Similarity: 95.68%\n",
            "\n",
            "Prediction 2:\n",
            "  Type: Pelastic\n",
            "  Similarity: 1.96%\n",
            "\n",
            "Prediction 3:\n",
            "  Type: Carton\n",
            "  Similarity: 1.43%\n",
            "\n",
            "  Reasons: Feature 1 with value 84.2023, Feature 3 with value 36.4675, Feature 2 with value 19.4242, Feature 13 with value 19.2450, Feature 18 with value 17.7276, Feature 19 with value 17.1920, Feature 17 with value 15.9307\n"
          ]
        }
      ]
    },
    {
      "cell_type": "code",
      "source": [
        "# تست مدل با فایل صوتی جدید\n",
        "test_file = r\"/content/drive/MyDrive/Colab Notebooks/AI_Project_AudioDetection/test/پایه میز.wav\"  # مسیر به فایل صوتی تست شما\n",
        "result = predict_sound_type_with_reasons(test_file)\n",
        "\n",
        "# نمایش سه پیش‌بینی برتر\n",
        "for idx, prediction in enumerate(result[\"Top Predictions\"], start=1):\n",
        "    print(f\"Prediction {idx}:\")\n",
        "    print(f\"  Type: {prediction['Type']}\")\n",
        "    print(f\"  Similarity: {prediction['Similarity']}\")\n",
        "    print()\n",
        "\n",
        "print(f\"  Reasons: {', '.join(prediction['Reason'])}\")"
      ],
      "metadata": {
        "colab": {
          "base_uri": "https://localhost:8080/"
        },
        "id": "2cVxPO2bAKBG",
        "outputId": "dcd56074-86c7-4015-8480-07f27a3a2f33"
      },
      "execution_count": 16,
      "outputs": [
        {
          "output_type": "stream",
          "name": "stdout",
          "text": [
            "\u001b[1m1/1\u001b[0m \u001b[32m━━━━━━━━━━━━━━━━━━━━\u001b[0m\u001b[37m\u001b[0m \u001b[1m0s\u001b[0m 26ms/step\n",
            "Prediction 1:\n",
            "  Type: Metal\n",
            "  Similarity: 99.45%\n",
            "\n",
            "Prediction 2:\n",
            "  Type: Pelastic\n",
            "  Similarity: 0.44%\n",
            "\n",
            "Prediction 3:\n",
            "  Type: Carton\n",
            "  Similarity: 0.05%\n",
            "\n",
            "  Reasons: Feature 1 with value 72.5025, Feature 3 with value 30.5587, Feature 13 with value 18.0171, Feature 18 with value 16.8498, Feature 19 with value 16.4302, Feature 17 with value 15.9818, Feature 16 with value 14.4989\n"
          ]
        }
      ]
    }
  ],
  "metadata": {
    "kernelspec": {
      "display_name": "Python 3",
      "language": "python",
      "name": "python3"
    },
    "language_info": {
      "codemirror_mode": {
        "name": "ipython",
        "version": 3
      },
      "file_extension": ".py",
      "mimetype": "text/x-python",
      "name": "python",
      "nbconvert_exporter": "python",
      "pygments_lexer": "ipython3",
      "version": "3.12.6"
    },
    "colab": {
      "provenance": []
    }
  },
  "nbformat": 4,
  "nbformat_minor": 0
}