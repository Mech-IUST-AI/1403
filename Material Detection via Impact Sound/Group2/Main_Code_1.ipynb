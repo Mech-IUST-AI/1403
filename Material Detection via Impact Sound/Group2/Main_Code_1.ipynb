{
 "cells": [
  {
   "cell_type": "markdown",
   "metadata": {},
   "source": [
    "<h4 align=\"center\"> In The Name of God </h4>"
   ]
  },
  {
   "cell_type": "markdown",
   "metadata": {},
   "source": [
    "------\n",
    " <h1 align=\"center\"> Artificial Intelligence Project </h1>\n",
    " <h3 align=\"center\"> Hosein Ghaderi   &   Ali Khosrozadeh   &   Fatemeh Hajizadeh </h3>\n",
    " <h3 align=\"center\"> Main Code (1) </h3>\n",
    "\n",
    "------"
   ]
  },
  {
   "cell_type": "markdown",
   "metadata": {
    "id": "hXitDWn-iARg"
   },
   "source": [
    "Used **libraries**"
   ]
  },
  {
   "cell_type": "code",
   "execution_count": 1,
   "metadata": {
    "executionInfo": {
     "elapsed": 21186,
     "status": "ok",
     "timestamp": 1735963958807,
     "user": {
      "displayName": "Ali khosrozadeh",
      "userId": "10272099443184726881"
     },
     "user_tz": -210
    },
    "id": "yXU0X7f2zARl"
   },
   "outputs": [],
   "source": [
    "\n",
    "#Python standard libraries\n",
    "import os                                                             #Managing files and paths in the operating system.\n",
    "import numpy as np                                                    #A library for numerical calculations with arrays\n",
    "                                                                      #and matrices and performing fast mathematical operations.\n",
    "import librosa                                                        #A library for audio processing and analysis.\n",
    "\n",
    "#Machine learning tools\n",
    "import tensorflow as tf                                               #Deep learning library for building and training neural networks\n",
    "from tensorflow.keras.layers import Dense\n",
    "from sklearn.preprocessing import LabelEncoder                        #sklearn: A library for machine learning and data preprocessing\n",
    "from tensorflow.keras.models import Sequential\n",
    "from sklearn.model_selection import train_test_split\n",
    "from tensorflow.keras.callbacks import EarlyStopping\n",
    "from sklearn.utils.class_weight import compute_class_weight\n",
    "from tensorflow.keras.layers import Conv1D, MaxPooling1D, Flatten\n",
    "from tensorflow.keras.preprocessing.sequence import pad_sequences\n",
    "from sklearn.metrics import confusion_matrix, classification_report\n",
    "\n",
    "#Visualization tools\n",
    "import seaborn as sns                                                 #A library for data visualization and data distribution analysis\n",
    "import matplotlib.pyplot as plt                                       #Core library for drawing graphs and visualizing features or results"
   ]
  },
  {
   "cell_type": "markdown",
   "metadata": {
    "id": "7UNt289CNQ43"
   },
   "source": [
    "**Functions used to develop the prediction model**"
   ]
  },
  {
   "cell_type": "code",
   "execution_count": 2,
   "metadata": {
    "executionInfo": {
     "elapsed": 19,
     "status": "ok",
     "timestamp": 1735963958811,
     "user": {
      "displayName": "Ali khosrozadeh",
      "userId": "10272099443184726881"
     },
     "user_tz": -210
    },
    "id": "ytF0AnuzzARp"
   },
   "outputs": [],
   "source": [
    "# Feature extraction\n",
    "def extract_features(file_path):\n",
    "\n",
    "    #Upload audio file\n",
    "    audio, sr = librosa.load(file_path, sr=None)\n",
    "    # Extracting the intensity of energy in 12 musical steps\n",
    "    chroma = librosa.feature.chroma_stft(y=audio, sr=sr)\n",
    "    chroma_mean = np.mean(chroma, axis=1)\n",
    "    # Extract the number of times the signal crosses the zero axis\n",
    "    zcr = librosa.feature.zero_crossing_rate(audio)\n",
    "    zcr_mean = np.mean(zcr)\n",
    "    #Mel Spec.\n",
    "    mel_spec = librosa.feature.melspectrogram(y=audio, sr=sr)\n",
    "    mel_spec_mean = np.mean(mel_spec, axis=1)\n",
    "    # Extracting energy differences between different frequency segments\n",
    "    spectral_contrast = librosa.feature.spectral_contrast(y=audio, sr=sr)\n",
    "    spectral_contrast_mean = np.mean(spectral_contrast, axis=1)\n",
    "    # Extracting frequency-related features\n",
    "    mfcc = librosa.feature.mfcc(y=audio, sr=sr, n_mfcc=13)\n",
    "    mfcc_mean = np.mean(mfcc, axis=1)\n",
    "    #Extracting how smooth or flat the spectrum is\n",
    "    flatness = librosa.feature.spectral_flatness(y=audio)\n",
    "    flatness_mean = np.mean(flatness)\n",
    "\n",
    "    features = np.hstack([\n",
    "         mfcc_mean,\n",
    "         spectral_contrast_mean,\n",
    "         chroma_mean ,\n",
    "         mel_spec_mean  ,\n",
    "         zcr_mean   ,\n",
    "         flatness_mean])\n",
    "\n",
    "    return features\n"
   ]
  },
  {
   "cell_type": "code",
   "execution_count": 3,
   "metadata": {
    "executionInfo": {
     "elapsed": 15,
     "status": "ok",
     "timestamp": 1735963958812,
     "user": {
      "displayName": "Ali khosrozadeh",
      "userId": "10272099443184726881"
     },
     "user_tz": -210
    },
    "id": "u6LKHJu8zARr"
   },
   "outputs": [],
   "source": [
    "#Classification\n",
    "\n",
    "def load_data(audio_folder):\n",
    "    features = []\n",
    "    labels = []\n",
    "    filenames = []\n",
    "\n",
    "    #All folders inside the main folder (audio_folder) are read.\n",
    "    for label in os.listdir(audio_folder):\n",
    "        label_folder = os.path.join(audio_folder, label)\n",
    "        if os.path.isdir(label_folder):\n",
    "            for file in os.listdir(label_folder):\n",
    "                if file.endswith(\".wav\"):\n",
    "                    file_path = os.path.join(label_folder, file)\n",
    "                    feature = extract_features(file_path)\n",
    "                    features.append(feature)\n",
    "                    labels.append(label)\n",
    "                    filenames.append(file)\n",
    "\n",
    "    return np.array(features), np.array(labels), filenames"
   ]
  },
  {
   "cell_type": "code",
   "execution_count": 4,
   "metadata": {
    "executionInfo": {
     "elapsed": 13,
     "status": "ok",
     "timestamp": 1735963958812,
     "user": {
      "displayName": "Ali khosrozadeh",
      "userId": "10272099443184726881"
     },
     "user_tz": -210
    },
    "id": "gxceHgFhYYpG"
   },
   "outputs": [],
   "source": [
    "def predictor(file_path):\n",
    "\n",
    "    #Load audio file > Remove noise > Extract features > Transform features to fit the model > Predict > Convert indices to genus name > Finish\n",
    "    audio, sr = librosa.load(file_path, sr=None)\n",
    "    audio =librosa.effects.preemphasis(audio)\n",
    "    features = extract_features(file_path)\n",
    "    features = features.reshape(1, -1)\n",
    "    predictions = model.predict(features)\n",
    "    result = np.argsort(predictions[0])\n",
    "    prediction = predictions[0][result]\n",
    "    name = encoder.inverse_transform(result)\n",
    "\n",
    "    # In this section, the input features (features[0]) are sorted in order of importance.\n",
    "    dominant_features = features[0]\n",
    "    important_features = np.argsort(dominant_features)[::-1][:7]\n",
    "    #The reasons for selecting each important feature are created as a list of strings, each representing the feature name and its value.\n",
    "    reasons = [\n",
    "        f\"Feature {i} with value {dominant_features[i]:.4f}\"\n",
    "        for i in important_features\n",
    "    ]\n",
    "\n",
    "    return {\n",
    "        \"Top Predictions\": [\n",
    "            {\"Type\": name, \"Similarity\": f\"{prob*100:.2f}%\", \"Reason\": reasons}\n",
    "            for name, prob in zip(name, prediction)\n",
    "        ]\n",
    "    }"
   ]
  },
  {
   "cell_type": "markdown",
   "metadata": {
    "id": "jt_gdjZOjrPE"
   },
   "source": [
    "**Start model development**"
   ]
  },
  {
   "cell_type": "code",
   "execution_count": 5,
   "metadata": {
    "colab": {
     "base_uri": "https://localhost:8080/"
    },
    "executionInfo": {
     "elapsed": 188650,
     "status": "ok",
     "timestamp": 1735964147450,
     "user": {
      "displayName": "Ali khosrozadeh",
      "userId": "10272099443184726881"
     },
     "user_tz": -210
    },
    "id": "yLhMW9JLzARs",
    "outputId": "07059e26-62f0-4774-8ff6-bc4800724dc0"
   },
   "outputs": [
    {
     "name": "stdout",
     "output_type": "stream",
     "text": [
      "Mounted at /content/drive\n"
     ]
    },
    {
     "name": "stderr",
     "output_type": "stream",
     "text": [
      "/usr/local/lib/python3.10/dist-packages/librosa/core/pitch.py:101: UserWarning: Trying to estimate tuning from empty frequency set.\n",
      "  return pitch_tuning(\n"
     ]
    }
   ],
   "source": [
    "#Data retrieval\n",
    "\n",
    "from google.colab import drive\n",
    "drive.mount('/content/drive')\n",
    "\n",
    "audio_folder = '/content/drive/MyDrive/My_Data'\n",
    "X, y , filenames = load_data(audio_folder)"
   ]
  },
  {
   "cell_type": "code",
   "execution_count": 6,
   "metadata": {
    "executionInfo": {
     "elapsed": 11,
     "status": "ok",
     "timestamp": 1735964147452,
     "user": {
      "displayName": "Ali khosrozadeh",
      "userId": "10272099443184726881"
     },
     "user_tz": -210
    },
    "id": "gn3v2NL2zARs"
   },
   "outputs": [],
   "source": [
    "#Convert folder names to numbers\n",
    "encoder = LabelEncoder()\n",
    "y_encoded = encoder.fit_transform(y)"
   ]
  },
  {
   "cell_type": "code",
   "execution_count": 7,
   "metadata": {
    "colab": {
     "base_uri": "https://localhost:8080/"
    },
    "collapsed": true,
    "executionInfo": {
     "elapsed": 19224,
     "status": "ok",
     "timestamp": 1735964166668,
     "user": {
      "displayName": "Ali khosrozadeh",
      "userId": "10272099443184726881"
     },
     "user_tz": -210
    },
    "id": "hzoC1mrYzARt",
    "outputId": "60df1260-745a-47db-a8d2-b1899e08f1e1"
   },
   "outputs": [
    {
     "name": "stderr",
     "output_type": "stream",
     "text": [
      "/usr/local/lib/python3.10/dist-packages/keras/src/layers/convolutional/base_conv.py:107: UserWarning: Do not pass an `input_shape`/`input_dim` argument to a layer. When using Sequential models, prefer using an `Input(shape)` object as the first layer in the model instead.\n",
      "  super().__init__(activity_regularizer=activity_regularizer, **kwargs)\n"
     ]
    },
    {
     "name": "stdout",
     "output_type": "stream",
     "text": [
      "Epoch 1/60\n",
      "\u001b[1m8/8\u001b[0m \u001b[32m━━━━━━━━━━━━━━━━━━━━\u001b[0m\u001b[37m\u001b[0m \u001b[1m2s\u001b[0m 59ms/step - accuracy: 0.3392 - loss: 5.0780 - val_accuracy: 0.8644 - val_loss: 0.4734\n",
      "Epoch 2/60\n",
      "\u001b[1m8/8\u001b[0m \u001b[32m━━━━━━━━━━━━━━━━━━━━\u001b[0m\u001b[37m\u001b[0m \u001b[1m0s\u001b[0m 18ms/step - accuracy: 0.6305 - loss: 0.7913 - val_accuracy: 0.9153 - val_loss: 0.1801\n",
      "Epoch 3/60\n",
      "\u001b[1m8/8\u001b[0m \u001b[32m━━━━━━━━━━━━━━━━━━━━\u001b[0m\u001b[37m\u001b[0m \u001b[1m1s\u001b[0m 42ms/step - accuracy: 0.9358 - loss: 0.1879 - val_accuracy: 0.9661 - val_loss: 0.1028\n",
      "Epoch 4/60\n",
      "\u001b[1m8/8\u001b[0m \u001b[32m━━━━━━━━━━━━━━━━━━━━\u001b[0m\u001b[37m\u001b[0m \u001b[1m1s\u001b[0m 33ms/step - accuracy: 0.9546 - loss: 0.1467 - val_accuracy: 0.9831 - val_loss: 0.0690\n",
      "Epoch 5/60\n",
      "\u001b[1m8/8\u001b[0m \u001b[32m━━━━━━━━━━━━━━━━━━━━\u001b[0m\u001b[37m\u001b[0m \u001b[1m1s\u001b[0m 43ms/step - accuracy: 0.9712 - loss: 0.0890 - val_accuracy: 0.9831 - val_loss: 0.0540\n",
      "Epoch 6/60\n",
      "\u001b[1m8/8\u001b[0m \u001b[32m━━━━━━━━━━━━━━━━━━━━\u001b[0m\u001b[37m\u001b[0m \u001b[1m1s\u001b[0m 55ms/step - accuracy: 0.9814 - loss: 0.0619 - val_accuracy: 0.9831 - val_loss: 0.0543\n",
      "Epoch 7/60\n",
      "\u001b[1m8/8\u001b[0m \u001b[32m━━━━━━━━━━━━━━━━━━━━\u001b[0m\u001b[37m\u001b[0m \u001b[1m1s\u001b[0m 43ms/step - accuracy: 0.9935 - loss: 0.0432 - val_accuracy: 0.9831 - val_loss: 0.0420\n",
      "Epoch 8/60\n",
      "\u001b[1m8/8\u001b[0m \u001b[32m━━━━━━━━━━━━━━━━━━━━\u001b[0m\u001b[37m\u001b[0m \u001b[1m0s\u001b[0m 35ms/step - accuracy: 1.0000 - loss: 0.0414 - val_accuracy: 0.9831 - val_loss: 0.0383\n",
      "Epoch 9/60\n",
      "\u001b[1m8/8\u001b[0m \u001b[32m━━━━━━━━━━━━━━━━━━━━\u001b[0m\u001b[37m\u001b[0m \u001b[1m1s\u001b[0m 56ms/step - accuracy: 1.0000 - loss: 0.0294 - val_accuracy: 1.0000 - val_loss: 0.0346\n",
      "Epoch 10/60\n",
      "\u001b[1m8/8\u001b[0m \u001b[32m━━━━━━━━━━━━━━━━━━━━\u001b[0m\u001b[37m\u001b[0m \u001b[1m0s\u001b[0m 45ms/step - accuracy: 1.0000 - loss: 0.0265 - val_accuracy: 1.0000 - val_loss: 0.0329\n",
      "Epoch 11/60\n",
      "\u001b[1m8/8\u001b[0m \u001b[32m━━━━━━━━━━━━━━━━━━━━\u001b[0m\u001b[37m\u001b[0m \u001b[1m0s\u001b[0m 30ms/step - accuracy: 0.9985 - loss: 0.0197 - val_accuracy: 1.0000 - val_loss: 0.0309\n",
      "Epoch 12/60\n",
      "\u001b[1m8/8\u001b[0m \u001b[32m━━━━━━━━━━━━━━━━━━━━\u001b[0m\u001b[37m\u001b[0m \u001b[1m1s\u001b[0m 32ms/step - accuracy: 1.0000 - loss: 0.0193 - val_accuracy: 1.0000 - val_loss: 0.0281\n",
      "Epoch 13/60\n",
      "\u001b[1m8/8\u001b[0m \u001b[32m━━━━━━━━━━━━━━━━━━━━\u001b[0m\u001b[37m\u001b[0m \u001b[1m1s\u001b[0m 35ms/step - accuracy: 1.0000 - loss: 0.0221 - val_accuracy: 1.0000 - val_loss: 0.0270\n",
      "Epoch 14/60\n",
      "\u001b[1m8/8\u001b[0m \u001b[32m━━━━━━━━━━━━━━━━━━━━\u001b[0m\u001b[37m\u001b[0m \u001b[1m0s\u001b[0m 24ms/step - accuracy: 1.0000 - loss: 0.0246 - val_accuracy: 1.0000 - val_loss: 0.0238\n",
      "Epoch 15/60\n",
      "\u001b[1m8/8\u001b[0m \u001b[32m━━━━━━━━━━━━━━━━━━━━\u001b[0m\u001b[37m\u001b[0m \u001b[1m0s\u001b[0m 20ms/step - accuracy: 1.0000 - loss: 0.0172 - val_accuracy: 1.0000 - val_loss: 0.0228\n",
      "Epoch 16/60\n",
      "\u001b[1m8/8\u001b[0m \u001b[32m━━━━━━━━━━━━━━━━━━━━\u001b[0m\u001b[37m\u001b[0m \u001b[1m0s\u001b[0m 19ms/step - accuracy: 1.0000 - loss: 0.0157 - val_accuracy: 1.0000 - val_loss: 0.0219\n",
      "Epoch 17/60\n",
      "\u001b[1m8/8\u001b[0m \u001b[32m━━━━━━━━━━━━━━━━━━━━\u001b[0m\u001b[37m\u001b[0m \u001b[1m1s\u001b[0m 21ms/step - accuracy: 1.0000 - loss: 0.0112 - val_accuracy: 1.0000 - val_loss: 0.0210\n",
      "Epoch 18/60\n",
      "\u001b[1m8/8\u001b[0m \u001b[32m━━━━━━━━━━━━━━━━━━━━\u001b[0m\u001b[37m\u001b[0m \u001b[1m0s\u001b[0m 44ms/step - accuracy: 1.0000 - loss: 0.0108 - val_accuracy: 1.0000 - val_loss: 0.0217\n",
      "Epoch 19/60\n",
      "\u001b[1m8/8\u001b[0m \u001b[32m━━━━━━━━━━━━━━━━━━━━\u001b[0m\u001b[37m\u001b[0m \u001b[1m0s\u001b[0m 20ms/step - accuracy: 1.0000 - loss: 0.0132 - val_accuracy: 1.0000 - val_loss: 0.0203\n",
      "Epoch 20/60\n",
      "\u001b[1m8/8\u001b[0m \u001b[32m━━━━━━━━━━━━━━━━━━━━\u001b[0m\u001b[37m\u001b[0m \u001b[1m0s\u001b[0m 27ms/step - accuracy: 1.0000 - loss: 0.0131 - val_accuracy: 1.0000 - val_loss: 0.0192\n",
      "Epoch 21/60\n",
      "\u001b[1m8/8\u001b[0m \u001b[32m━━━━━━━━━━━━━━━━━━━━\u001b[0m\u001b[37m\u001b[0m \u001b[1m0s\u001b[0m 22ms/step - accuracy: 1.0000 - loss: 0.0152 - val_accuracy: 1.0000 - val_loss: 0.0180\n",
      "Epoch 22/60\n",
      "\u001b[1m8/8\u001b[0m \u001b[32m━━━━━━━━━━━━━━━━━━━━\u001b[0m\u001b[37m\u001b[0m \u001b[1m0s\u001b[0m 18ms/step - accuracy: 1.0000 - loss: 0.0078 - val_accuracy: 1.0000 - val_loss: 0.0172\n",
      "Epoch 23/60\n",
      "\u001b[1m8/8\u001b[0m \u001b[32m━━━━━━━━━━━━━━━━━━━━\u001b[0m\u001b[37m\u001b[0m \u001b[1m0s\u001b[0m 20ms/step - accuracy: 1.0000 - loss: 0.0101 - val_accuracy: 1.0000 - val_loss: 0.0164\n",
      "Epoch 24/60\n",
      "\u001b[1m8/8\u001b[0m \u001b[32m━━━━━━━━━━━━━━━━━━━━\u001b[0m\u001b[37m\u001b[0m \u001b[1m0s\u001b[0m 28ms/step - accuracy: 1.0000 - loss: 0.0097 - val_accuracy: 1.0000 - val_loss: 0.0157\n",
      "Epoch 25/60\n",
      "\u001b[1m8/8\u001b[0m \u001b[32m━━━━━━━━━━━━━━━━━━━━\u001b[0m\u001b[37m\u001b[0m \u001b[1m0s\u001b[0m 29ms/step - accuracy: 1.0000 - loss: 0.0119 - val_accuracy: 1.0000 - val_loss: 0.0149\n",
      "Epoch 26/60\n",
      "\u001b[1m8/8\u001b[0m \u001b[32m━━━━━━━━━━━━━━━━━━━━\u001b[0m\u001b[37m\u001b[0m \u001b[1m0s\u001b[0m 20ms/step - accuracy: 1.0000 - loss: 0.0082 - val_accuracy: 1.0000 - val_loss: 0.0149\n",
      "Epoch 27/60\n",
      "\u001b[1m8/8\u001b[0m \u001b[32m━━━━━━━━━━━━━━━━━━━━\u001b[0m\u001b[37m\u001b[0m \u001b[1m0s\u001b[0m 15ms/step - accuracy: 1.0000 - loss: 0.0100 - val_accuracy: 1.0000 - val_loss: 0.0140\n",
      "Epoch 28/60\n",
      "\u001b[1m8/8\u001b[0m \u001b[32m━━━━━━━━━━━━━━━━━━━━\u001b[0m\u001b[37m\u001b[0m \u001b[1m0s\u001b[0m 10ms/step - accuracy: 1.0000 - loss: 0.0097 - val_accuracy: 1.0000 - val_loss: 0.0130\n",
      "Epoch 29/60\n",
      "\u001b[1m8/8\u001b[0m \u001b[32m━━━━━━━━━━━━━━━━━━━━\u001b[0m\u001b[37m\u001b[0m \u001b[1m0s\u001b[0m 13ms/step - accuracy: 1.0000 - loss: 0.0061 - val_accuracy: 1.0000 - val_loss: 0.0126\n",
      "Epoch 30/60\n",
      "\u001b[1m8/8\u001b[0m \u001b[32m━━━━━━━━━━━━━━━━━━━━\u001b[0m\u001b[37m\u001b[0m \u001b[1m0s\u001b[0m 11ms/step - accuracy: 1.0000 - loss: 0.0070 - val_accuracy: 1.0000 - val_loss: 0.0122\n",
      "Epoch 31/60\n",
      "\u001b[1m8/8\u001b[0m \u001b[32m━━━━━━━━━━━━━━━━━━━━\u001b[0m\u001b[37m\u001b[0m \u001b[1m0s\u001b[0m 9ms/step - accuracy: 1.0000 - loss: 0.0057 - val_accuracy: 1.0000 - val_loss: 0.0113\n",
      "Epoch 32/60\n",
      "\u001b[1m8/8\u001b[0m \u001b[32m━━━━━━━━━━━━━━━━━━━━\u001b[0m\u001b[37m\u001b[0m \u001b[1m0s\u001b[0m 10ms/step - accuracy: 1.0000 - loss: 0.0053 - val_accuracy: 1.0000 - val_loss: 0.0110\n",
      "Epoch 33/60\n",
      "\u001b[1m8/8\u001b[0m \u001b[32m━━━━━━━━━━━━━━━━━━━━\u001b[0m\u001b[37m\u001b[0m \u001b[1m0s\u001b[0m 11ms/step - accuracy: 1.0000 - loss: 0.0050 - val_accuracy: 1.0000 - val_loss: 0.0107\n",
      "Epoch 34/60\n",
      "\u001b[1m8/8\u001b[0m \u001b[32m━━━━━━━━━━━━━━━━━━━━\u001b[0m\u001b[37m\u001b[0m \u001b[1m0s\u001b[0m 11ms/step - accuracy: 1.0000 - loss: 0.0051 - val_accuracy: 1.0000 - val_loss: 0.0102\n",
      "Epoch 35/60\n",
      "\u001b[1m8/8\u001b[0m \u001b[32m━━━━━━━━━━━━━━━━━━━━\u001b[0m\u001b[37m\u001b[0m \u001b[1m0s\u001b[0m 14ms/step - accuracy: 1.0000 - loss: 0.0045 - val_accuracy: 1.0000 - val_loss: 0.0098\n",
      "Epoch 36/60\n",
      "\u001b[1m8/8\u001b[0m \u001b[32m━━━━━━━━━━━━━━━━━━━━\u001b[0m\u001b[37m\u001b[0m \u001b[1m0s\u001b[0m 14ms/step - accuracy: 1.0000 - loss: 0.0035 - val_accuracy: 1.0000 - val_loss: 0.0095\n",
      "Epoch 37/60\n",
      "\u001b[1m8/8\u001b[0m \u001b[32m━━━━━━━━━━━━━━━━━━━━\u001b[0m\u001b[37m\u001b[0m \u001b[1m0s\u001b[0m 15ms/step - accuracy: 1.0000 - loss: 0.0054 - val_accuracy: 1.0000 - val_loss: 0.0093\n",
      "Epoch 38/60\n",
      "\u001b[1m8/8\u001b[0m \u001b[32m━━━━━━━━━━━━━━━━━━━━\u001b[0m\u001b[37m\u001b[0m \u001b[1m0s\u001b[0m 10ms/step - accuracy: 1.0000 - loss: 0.0035 - val_accuracy: 1.0000 - val_loss: 0.0088\n",
      "Epoch 39/60\n",
      "\u001b[1m8/8\u001b[0m \u001b[32m━━━━━━━━━━━━━━━━━━━━\u001b[0m\u001b[37m\u001b[0m \u001b[1m0s\u001b[0m 11ms/step - accuracy: 1.0000 - loss: 0.0039 - val_accuracy: 1.0000 - val_loss: 0.0092\n",
      "Epoch 40/60\n",
      "\u001b[1m8/8\u001b[0m \u001b[32m━━━━━━━━━━━━━━━━━━━━\u001b[0m\u001b[37m\u001b[0m \u001b[1m0s\u001b[0m 11ms/step - accuracy: 1.0000 - loss: 0.0037 - val_accuracy: 1.0000 - val_loss: 0.0079\n",
      "Epoch 41/60\n",
      "\u001b[1m8/8\u001b[0m \u001b[32m━━━━━━━━━━━━━━━━━━━━\u001b[0m\u001b[37m\u001b[0m \u001b[1m0s\u001b[0m 11ms/step - accuracy: 1.0000 - loss: 0.0035 - val_accuracy: 1.0000 - val_loss: 0.0075\n",
      "Epoch 42/60\n",
      "\u001b[1m8/8\u001b[0m \u001b[32m━━━━━━━━━━━━━━━━━━━━\u001b[0m\u001b[37m\u001b[0m \u001b[1m0s\u001b[0m 14ms/step - accuracy: 1.0000 - loss: 0.0035 - val_accuracy: 1.0000 - val_loss: 0.0073\n",
      "Epoch 43/60\n",
      "\u001b[1m8/8\u001b[0m \u001b[32m━━━━━━━━━━━━━━━━━━━━\u001b[0m\u001b[37m\u001b[0m \u001b[1m0s\u001b[0m 12ms/step - accuracy: 1.0000 - loss: 0.0044 - val_accuracy: 1.0000 - val_loss: 0.0072\n",
      "Epoch 44/60\n",
      "\u001b[1m8/8\u001b[0m \u001b[32m━━━━━━━━━━━━━━━━━━━━\u001b[0m\u001b[37m\u001b[0m \u001b[1m0s\u001b[0m 13ms/step - accuracy: 1.0000 - loss: 0.0027 - val_accuracy: 1.0000 - val_loss: 0.0067\n",
      "Epoch 45/60\n",
      "\u001b[1m8/8\u001b[0m \u001b[32m━━━━━━━━━━━━━━━━━━━━\u001b[0m\u001b[37m\u001b[0m \u001b[1m0s\u001b[0m 12ms/step - accuracy: 1.0000 - loss: 0.0034 - val_accuracy: 1.0000 - val_loss: 0.0078\n",
      "Epoch 46/60\n",
      "\u001b[1m8/8\u001b[0m \u001b[32m━━━━━━━━━━━━━━━━━━━━\u001b[0m\u001b[37m\u001b[0m \u001b[1m0s\u001b[0m 12ms/step - accuracy: 1.0000 - loss: 0.0029 - val_accuracy: 1.0000 - val_loss: 0.0062\n",
      "Epoch 47/60\n",
      "\u001b[1m8/8\u001b[0m \u001b[32m━━━━━━━━━━━━━━━━━━━━\u001b[0m\u001b[37m\u001b[0m \u001b[1m0s\u001b[0m 13ms/step - accuracy: 1.0000 - loss: 0.0024 - val_accuracy: 1.0000 - val_loss: 0.0061\n",
      "Epoch 48/60\n",
      "\u001b[1m8/8\u001b[0m \u001b[32m━━━━━━━━━━━━━━━━━━━━\u001b[0m\u001b[37m\u001b[0m \u001b[1m0s\u001b[0m 14ms/step - accuracy: 1.0000 - loss: 0.0033 - val_accuracy: 1.0000 - val_loss: 0.0092\n",
      "Epoch 49/60\n",
      "\u001b[1m8/8\u001b[0m \u001b[32m━━━━━━━━━━━━━━━━━━━━\u001b[0m\u001b[37m\u001b[0m \u001b[1m0s\u001b[0m 19ms/step - accuracy: 1.0000 - loss: 0.0043 - val_accuracy: 1.0000 - val_loss: 0.0069\n",
      "Epoch 50/60\n",
      "\u001b[1m8/8\u001b[0m \u001b[32m━━━━━━━━━━━━━━━━━━━━\u001b[0m\u001b[37m\u001b[0m \u001b[1m0s\u001b[0m 18ms/step - accuracy: 1.0000 - loss: 0.0035 - val_accuracy: 1.0000 - val_loss: 0.0052\n",
      "Epoch 51/60\n",
      "\u001b[1m8/8\u001b[0m \u001b[32m━━━━━━━━━━━━━━━━━━━━\u001b[0m\u001b[37m\u001b[0m \u001b[1m0s\u001b[0m 11ms/step - accuracy: 1.0000 - loss: 0.0021 - val_accuracy: 1.0000 - val_loss: 0.0057\n",
      "Epoch 52/60\n",
      "\u001b[1m8/8\u001b[0m \u001b[32m━━━━━━━━━━━━━━━━━━━━\u001b[0m\u001b[37m\u001b[0m \u001b[1m0s\u001b[0m 14ms/step - accuracy: 1.0000 - loss: 0.0026 - val_accuracy: 1.0000 - val_loss: 0.0052\n",
      "Epoch 53/60\n",
      "\u001b[1m8/8\u001b[0m \u001b[32m━━━━━━━━━━━━━━━━━━━━\u001b[0m\u001b[37m\u001b[0m \u001b[1m0s\u001b[0m 16ms/step - accuracy: 1.0000 - loss: 0.0024 - val_accuracy: 1.0000 - val_loss: 0.0047\n",
      "Epoch 54/60\n",
      "\u001b[1m8/8\u001b[0m \u001b[32m━━━━━━━━━━━━━━━━━━━━\u001b[0m\u001b[37m\u001b[0m \u001b[1m0s\u001b[0m 18ms/step - accuracy: 1.0000 - loss: 0.0019 - val_accuracy: 1.0000 - val_loss: 0.0048\n",
      "Epoch 55/60\n",
      "\u001b[1m8/8\u001b[0m \u001b[32m━━━━━━━━━━━━━━━━━━━━\u001b[0m\u001b[37m\u001b[0m \u001b[1m0s\u001b[0m 27ms/step - accuracy: 1.0000 - loss: 0.0019 - val_accuracy: 1.0000 - val_loss: 0.0045\n",
      "Epoch 56/60\n",
      "\u001b[1m8/8\u001b[0m \u001b[32m━━━━━━━━━━━━━━━━━━━━\u001b[0m\u001b[37m\u001b[0m \u001b[1m0s\u001b[0m 19ms/step - accuracy: 1.0000 - loss: 0.0025 - val_accuracy: 1.0000 - val_loss: 0.0046\n",
      "Epoch 57/60\n",
      "\u001b[1m8/8\u001b[0m \u001b[32m━━━━━━━━━━━━━━━━━━━━\u001b[0m\u001b[37m\u001b[0m \u001b[1m0s\u001b[0m 16ms/step - accuracy: 1.0000 - loss: 0.0020 - val_accuracy: 1.0000 - val_loss: 0.0044\n",
      "Epoch 58/60\n",
      "\u001b[1m8/8\u001b[0m \u001b[32m━━━━━━━━━━━━━━━━━━━━\u001b[0m\u001b[37m\u001b[0m \u001b[1m0s\u001b[0m 19ms/step - accuracy: 1.0000 - loss: 0.0016 - val_accuracy: 1.0000 - val_loss: 0.0044\n",
      "Epoch 59/60\n",
      "\u001b[1m8/8\u001b[0m \u001b[32m━━━━━━━━━━━━━━━━━━━━\u001b[0m\u001b[37m\u001b[0m \u001b[1m0s\u001b[0m 21ms/step - accuracy: 1.0000 - loss: 0.0022 - val_accuracy: 1.0000 - val_loss: 0.0066\n",
      "Epoch 60/60\n",
      "\u001b[1m8/8\u001b[0m \u001b[32m━━━━━━━━━━━━━━━━━━━━\u001b[0m\u001b[37m\u001b[0m \u001b[1m0s\u001b[0m 17ms/step - accuracy: 1.0000 - loss: 0.0020 - val_accuracy: 1.0000 - val_loss: 0.0040\n",
      "\u001b[1m2/2\u001b[0m \u001b[32m━━━━━━━━━━━━━━━━━━━━\u001b[0m\u001b[37m\u001b[0m \u001b[1m0s\u001b[0m 12ms/step - accuracy: 1.0000 - loss: 0.0044\n",
      "Test Accuracy: 100.00%\n"
     ]
    }
   ],
   "source": [
    "X_train, X_test, y_train, y_test, filenames_train, filenames_test = train_test_split(X, y_encoded, filenames, test_size=0.2, random_state=41\n",
    "                                                                                     )\n",
    "\n",
    "#CNN\n",
    "model = Sequential()\n",
    "model.add(Conv1D(32, kernel_size=3, activation='relu', input_shape=(X_train.shape[1], 1)))\n",
    "model.add(MaxPooling1D(pool_size=2))\n",
    "model.add(Flatten())\n",
    "model.add(Dense(32, activation='relu'))\n",
    "model.add(Dense(len(np.unique(y_encoded)), activation='softmax'))\n",
    "\n",
    "\n",
    "model.compile(optimizer='adam', loss='sparse_categorical_crossentropy', metrics=['accuracy'])\n",
    "\n",
    "\n",
    "#It helps to pay more attention to classes with less data.\n",
    "class_weights = compute_class_weight('balanced', classes=np.unique(y_train), y=y_train)\n",
    "class_weights_dict = dict(enumerate(class_weights))\n",
    "\n",
    "# Tranning\n",
    "history = model.fit(X_train, y_train, epochs=60, batch_size=32, validation_data=(X_test, y_test), class_weight=class_weights_dict)#, callbacks=[early_stopping])\n",
    "\n",
    "# testing\n",
    "loss, accuracy = model.evaluate(X_test, y_test)\n",
    "print(f\"Test Accuracy: {accuracy*100:.2f}%\")\n",
    "\n",
    "\n"
   ]
  },
  {
   "cell_type": "code",
   "execution_count": 8,
   "metadata": {
    "colab": {
     "base_uri": "https://localhost:8080/",
     "height": 449
    },
    "executionInfo": {
     "elapsed": 467,
     "status": "ok",
     "timestamp": 1735964167128,
     "user": {
      "displayName": "Ali khosrozadeh",
      "userId": "10272099443184726881"
     },
     "user_tz": -210
    },
    "id": "R3BJInhezARu",
    "outputId": "b8d1b484-3c1f-4db6-8a1f-4ceeee5e5967"
   },
   "outputs": [
    {
     "data": {
      "image/png": "[encoded data removed]",
      "text/plain": [
       "<Figure size 640x480 with 1 Axes>"
      ]
     },
     "metadata": {},
     "output_type": "display_data"
    }
   ],
   "source": [
    "# رسم نمودار دقت بر حسب epoch‌ها\n",
    "plt.plot(history.history['accuracy'], label='Training Accuracy')\n",
    "plt.plot(history.history['val_accuracy'], label='Validation Accuracy')\n",
    "plt.xlabel('Epochs')\n",
    "plt.ylabel('Accuracy')\n",
    "plt.legend()\n",
    "plt.show()"
   ]
  },
  {
   "cell_type": "code",
   "execution_count": 13,
   "metadata": {
    "colab": {
     "base_uri": "https://localhost:8080/",
     "height": 895
    },
    "collapsed": true,
    "executionInfo": {
     "elapsed": 1085,
     "status": "ok",
     "timestamp": 1735966694335,
     "user": {
      "displayName": "Ali khosrozadeh",
      "userId": "10272099443184726881"
     },
     "user_tz": -210
    },
    "id": "jZYvYDxpzARv",
    "outputId": "b9d20ff8-0d94-48c0-db3c-e200fe5c9aa0"
   },
   "outputs": [
    {
     "name": "stdout",
     "output_type": "stream",
     "text": [
      "Class Glass: Example filename -> Aluminum 14.wav\n",
      "Class Iron: Example filename -> Glass 63.wav\n",
      "Class Pelastic: Example filename -> Iron 2.wav\n",
      "Class Aluminium: Example filename -> Plastic 17.wav\n",
      "Class Wood: Example filename -> Wood 37.wav\n",
      "\u001b[1m2/2\u001b[0m \u001b[32m━━━━━━━━━━━━━━━━━━━━\u001b[0m\u001b[37m\u001b[0m \u001b[1m0s\u001b[0m 7ms/step \n",
      "              precision    recall  f1-score   support\n",
      "\n",
      "       Glass       1.00      1.00      1.00        12\n",
      "        Iron       1.00      1.00      1.00         9\n",
      "    Pelastic       1.00      1.00      1.00        11\n",
      "   Aluminium       1.00      1.00      1.00        12\n",
      "        Wood       1.00      1.00      1.00        15\n",
      "\n",
      "    accuracy                           1.00        59\n",
      "   macro avg       1.00      1.00      1.00        59\n",
      "weighted avg       1.00      1.00      1.00        59\n",
      "\n"
     ]
    },
    {
     "data": {
      "image/png": "[encoded data removed]",
      "text/plain": [
       "<Figure size 1000x700 with 2 Axes>"
      ]
     },
     "metadata": {},
     "output_type": "display_data"
    }
   ],
   "source": [
    "class_names = ['Glass', 'Iron', 'Pelastic', 'Aluminium', 'Wood']\n",
    "\n",
    "#  Find the category name\n",
    "for label in np.unique(y_test):\n",
    "    sample_idx = np.where(y_test == label)[0][0]\n",
    "    print(f\"Class {class_names[label]}: Example filename -> {filenames_test[sample_idx]}\")\n",
    "\n",
    "# پیش‌بینی دسته‌ها\n",
    "y_pred = np.argmax(model.predict(X_test), axis=1)\n",
    "\n",
    "# نمایش ماتریس\n",
    "cm = confusion_matrix(y_test, y_pred)\n",
    "\n",
    "\n",
    "#گزارش عملکرد\n",
    "print(classification_report(y_test, y_pred, target_names=class_names))\n",
    "plt.figure(figsize=(10, 7))\n",
    "sns.heatmap(cm, annot=True, fmt='d', cmap='Blues', xticklabels=class_names, yticklabels=class_names)\n",
    "plt.xlabel('Predicted Labels')\n",
    "plt.ylabel('True Labels')\n",
    "plt.title('Confusion Matrix')\n",
    "plt.show()\n"
   ]
  },
  {
   "cell_type": "code",
   "execution_count": 10,
   "metadata": {
    "colab": {
     "base_uri": "https://localhost:8080/"
    },
    "collapsed": true,
    "executionInfo": {
     "elapsed": 406,
     "status": "ok",
     "timestamp": 1735964169556,
     "user": {
      "displayName": "Ali khosrozadeh",
      "userId": "10272099443184726881"
     },
     "user_tz": -210
    },
    "id": "FHYQTzwBzARv",
    "outputId": "38ba8dfe-09b8-4afe-ad2d-fb47af06646c"
   },
   "outputs": [
    {
     "name": "stdout",
     "output_type": "stream",
     "text": [
      "\u001b[1m2/2\u001b[0m \u001b[32m━━━━━━━━━━━━━━━━━━━━\u001b[0m\u001b[37m\u001b[0m \u001b[1m0s\u001b[0m 13ms/step\n",
      "Sample 1:\n",
      "File: Plastic 17.wav\n",
      "True label: plastic\n",
      "Predicted label: plastic\n",
      "--------------------------------------------------\n",
      "Sample 2:\n",
      "File: Iron 2.wav\n",
      "True label: iron\n",
      "Predicted label: iron\n",
      "--------------------------------------------------\n",
      "Sample 3:\n",
      "File: Glass 63.wav\n",
      "True label: glass\n",
      "Predicted label: glass\n",
      "--------------------------------------------------\n",
      "Sample 4:\n",
      "File: Aluminum 14.wav\n",
      "True label: Al\n",
      "Predicted label: Al\n",
      "--------------------------------------------------\n",
      "Sample 5:\n",
      "File: Wood 37.wav\n",
      "True label: wood\n",
      "Predicted label: wood\n",
      "--------------------------------------------------\n"
     ]
    }
   ],
   "source": [
    "# test\n",
    "predictions = model.predict(X_test)\n",
    "\n",
    "predicted_labels = encoder.inverse_transform(np.argmax(predictions, axis=1))\n",
    "true_labels = encoder.inverse_transform(y_test)\n",
    "\n",
    "num_samples = min(5, len(X_test))\n",
    "#num_samples = max(10, len(X_test))\n",
    "for i in range(num_samples):\n",
    "    print(f\"Sample {i+1}:\")\n",
    "    print(f\"File: {filenames_test[i]}\")\n",
    "    print(f\"True label: {true_labels[i]}\")\n",
    "    print(f\"Predicted label: {predicted_labels[i]}\")\n",
    "    print(\"-\" * 50)"
   ]
  },
  {
   "cell_type": "markdown",
   "metadata": {
    "id": "wvRbVVo2ME_b"
   },
   "source": [
    "**For Your Test**"
   ]
  },
  {
   "cell_type": "code",
   "execution_count": 12,
   "metadata": {
    "colab": {
     "base_uri": "https://localhost:8080/"
    },
    "executionInfo": {
     "elapsed": 781,
     "status": "ok",
     "timestamp": 1735966047932,
     "user": {
      "displayName": "Ali khosrozadeh",
      "userId": "10272099443184726881"
     },
     "user_tz": -210
    },
    "id": "T33dh7DLbYPy",
    "outputId": "a75934e8-fdce-4bea-cf76-1904e23c52c0"
   },
   "outputs": [
    {
     "name": "stdout",
     "output_type": "stream",
     "text": [
      "\u001b[1m1/1\u001b[0m \u001b[32m━━━━━━━━━━━━━━━━━━━━\u001b[0m\u001b[37m\u001b[0m \u001b[1m0s\u001b[0m 37ms/step\n",
      "Best Prediction:\n",
      "  Type: iron\n",
      "  Similarity: 99.05%\n",
      "  Reasons: Feature 1 with value 45.3193, Feature 19 with value 35.3293, Feature 3 with value 33.2080, Feature 18 with value 25.7980, Feature 7 with value 20.3324, Feature 17 with value 14.4123, Feature 13 with value 12.6078\n"
     ]
    }
   ],
   "source": [
    "#test_file = r\"/content/drive/MyDrive/ForTest/TestG51.wav\"\n",
    "test_file = r\"/content/Fe.wav\"\n",
    "result = predictor(test_file)\n",
    "\n",
    "#Finding the best prediction\n",
    "if \"Top Predictions\" in result and result[\"Top Predictions\"]:\n",
    "    best_prediction = max(result[\"Top Predictions\"], key=lambda x: x[\"Similarity\"])\n",
    "    print(\"Best Prediction:\")\n",
    "    print(f\"  Type: {best_prediction['Type']}\")\n",
    "    print(f\"  Similarity: {best_prediction['Similarity']}\")\n",
    "    print(f\"  Reasons: {', '.join(best_prediction['Reason'])}\")\n",
    "else:\n",
    "    print(\"No predictions available.\")\n"
   ]
  }
 ],
 "metadata": {
  "colab": {
   "provenance": []
  },
  "kernelspec": {
   "display_name": "Python 3",
   "language": "python",
   "name": "python3"
  },
  "language_info": {
   "codemirror_mode": {
    "name": "ipython",
    "version": 3
   },
   "file_extension": ".py",
   "mimetype": "text/x-python",
   "name": "python",
   "nbconvert_exporter": "python",
   "pygments_lexer": "ipython3",
   "version": "3.12.6"
  }
 },
 "nbformat": 4,
 "nbformat_minor": 0
}
