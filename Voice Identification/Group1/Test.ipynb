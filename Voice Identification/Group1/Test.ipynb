{
 "cells": [
  {
   "cell_type": "code",
   "execution_count": null,
   "metadata": {},
   "outputs": [],
   "source": [
    "#Ali Badrloo\n",
    "#Mahdi Alikhani\n",
    "#Mohammadjavad Ghazikhani"
   ]
  },
  {
   "cell_type": "code",
   "execution_count": 2,
   "metadata": {},
   "outputs": [],
   "source": [
    "import os\n",
    "import librosa\n",
    "import numpy as np\n",
    "import tensorflow as tf\n",
    "from tensorflow.image import resize\n",
    "from tensorflow.keras.models import load_model"
   ]
  },
  {
   "cell_type": "code",
   "execution_count": 3,
   "metadata": {},
   "outputs": [
    {
     "name": "stderr",
     "output_type": "stream",
     "text": [
      "WARNING:absl:Compiled the loaded model, but the compiled metrics have yet to be built. `model.compile_metrics` will be empty until you train or evaluate the model.\n"
     ]
    }
   ],
   "source": [
    "# Load the saved model\n",
    "model = load_model('my_model.h5')"
   ]
  },
  {
   "cell_type": "code",
   "execution_count": 4,
   "metadata": {},
   "outputs": [],
   "source": [
    "# Define the target shape for input spectrograms\n",
    "target_shape = (128, 128)"
   ]
  },
  {
   "cell_type": "code",
   "execution_count": 5,
   "metadata": {},
   "outputs": [],
   "source": [
    "# Define your class labels\n",
    "classes = ['ali_ghaderi', 'amin_taheri', 'faezeh_najafi', 'houman', 'kourosh',\n",
    "            'mahdi', 'mahdi_joozdani', 'mani_hosseini', 'mehdi_gozali', 'mojtaba',\n",
    "              'nazanin_hasani', 'negar', 'saba', 'sam', 'samyar_miri']"
   ]
  },
  {
   "cell_type": "code",
   "execution_count": null,
   "metadata": {},
   "outputs": [],
   "source": [
    "# Function to preprocess and classify an audio file\n",
    "def test_audio(file_path, model):\n",
    "\n",
    "    # Load and preprocess the audio file\n",
    "    y, sr = librosa.load(file_path, sr=None)\n",
    "    y_trimmed, _ = librosa.effects.trim(y, top_db=30)\n",
    "\n",
    "    # Extract mel spectrogram\n",
    "    S = librosa.feature.melspectrogram(y=y_trimmed, sr=sr, n_mels=128 * 5)\n",
    "    S_db_mel = librosa.amplitude_to_db(S, ref=np.max)\n",
    "\n",
    "    # Normalize the spectrogram\n",
    "    S_db_mel_normalized = (S_db_mel - np.min(S_db_mel)) / (np.max(S_db_mel) - np.min(S_db_mel))\n",
    "\n",
    "    mel_spectrogram = S_db_mel_normalized\n",
    "    \n",
    "    mel_spectrogram = resize(np.expand_dims(mel_spectrogram, axis=-1), target_shape)\n",
    "    mel_spectrogram = tf.reshape(mel_spectrogram, (1,) + target_shape + (1,))\n",
    "    \n",
    "    # Make predictions\n",
    "    predictions = model.predict(mel_spectrogram)\n",
    "    \n",
    "    # Get the class probabilities\n",
    "    class_probabilities = predictions[0]\n",
    "    \n",
    "    # Get the predicted class index\n",
    "    predicted_class_index = np.argmax(class_probabilities)\n",
    "    \n",
    "    return class_probabilities, predicted_class_index"
   ]
  },
  {
   "cell_type": "code",
   "execution_count": 20,
   "metadata": {},
   "outputs": [
    {
     "name": "stdout",
     "output_type": "stream",
     "text": [
      "\u001b[1m1/1\u001b[0m \u001b[32m━━━━━━━━━━━━━━━━━━━━\u001b[0m\u001b[37m\u001b[0m \u001b[1m0s\u001b[0m 41ms/step\n"
     ]
    }
   ],
   "source": [
    "# Test an audio file\n",
    "test_audio_file = 'mani.wav'\n",
    "class_probabilities, predicted_class_index = test_audio(test_audio_file, model)"
   ]
  },
  {
   "cell_type": "code",
   "execution_count": 21,
   "metadata": {},
   "outputs": [
    {
     "name": "stdout",
     "output_type": "stream",
     "text": [
      "Class: ali_ghaderi, Probability: 0.0007\n",
      "Class: amin_taheri, Probability: 0.0000\n",
      "Class: faezeh_najafi, Probability: 0.0002\n",
      "Class: houman, Probability: 0.0000\n",
      "Class: kourosh, Probability: 0.0000\n",
      "Class: mahdi, Probability: 0.0003\n",
      "Class: mahdi_joozdani, Probability: 0.0000\n",
      "Class: mani_hosseini, Probability: 0.9949\n",
      "Class: mehdi_gozali, Probability: 0.0001\n",
      "Class: mojtaba, Probability: 0.0000\n",
      "Class: nazanin_hasani, Probability: 0.0000\n",
      "Class: negar, Probability: 0.0037\n",
      "Class: saba, Probability: 0.0000\n",
      "Class: sam, Probability: 0.0000\n",
      "Class: samyar_miri, Probability: 0.0000\n"
     ]
    }
   ],
   "source": [
    "# Display results for all classes\n",
    "for i, class_label in enumerate(classes):\n",
    "    probability = class_probabilities[i]\n",
    "    print(f'Class: {class_label}, Probability: {probability:.4f}')"
   ]
  },
  {
   "cell_type": "code",
   "execution_count": 22,
   "metadata": {},
   "outputs": [
    {
     "name": "stdout",
     "output_type": "stream",
     "text": [
      "The audio is classified as: mani_hosseini\n",
      "Accuracy: 0.9949\n"
     ]
    }
   ],
   "source": [
    "# Calculate and display the predicted class and accuracy\n",
    "predicted_class = classes[predicted_class_index]\n",
    "accuracy = class_probabilities[predicted_class_index]\n",
    "print(f'The audio is classified as: {predicted_class}')\n",
    "print(f'Accuracy: {accuracy:.4f}')"
   ]
  }
 ],
 "metadata": {
  "kernelspec": {
   "display_name": "Python 3",
   "language": "python",
   "name": "python3"
  },
  "language_info": {
   "codemirror_mode": {
    "name": "ipython",
    "version": 3
   },
   "file_extension": ".py",
   "mimetype": "text/x-python",
   "name": "python",
   "nbconvert_exporter": "python",
   "pygments_lexer": "ipython3",
   "version": "3.11.9"
  }
 },
 "nbformat": 4,
 "nbformat_minor": 2
}
