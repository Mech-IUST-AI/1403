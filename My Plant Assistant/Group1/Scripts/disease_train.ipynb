{
 "cells": [
  {
   "cell_type": "code",
   "execution_count": 63,
   "metadata": {},
   "outputs": [],
   "source": [
    "import torch\n",
    "import torch.nn as nn\n",
    "import torch.optim as optim\n",
    "from torch.utils.data import DataLoader\n",
    "from torchvision import datasets, models, transforms\n",
    "import os\n"
   ]
  },
  {
   "cell_type": "code",
   "execution_count": 64,
   "metadata": {},
   "outputs": [
    {
     "name": "stdout",
     "output_type": "stream",
     "text": [
      "Using device: cuda\n"
     ]
    }
   ],
   "source": [
    "# Define device\n",
    "device = torch.device(\"cuda\" if torch.cuda.is_available() else \"cpu\")\n",
    "print(f\"Using device: {device}\")\n"
   ]
  },
  {
   "cell_type": "code",
   "execution_count": 65,
   "metadata": {},
   "outputs": [],
   "source": [
    "\n",
    "# Define transformations for the dataset\n",
    "data_transforms = {\n",
    "    \"train\": transforms.Compose([\n",
    "        transforms.RandomResizedCrop(224),\n",
    "        transforms.RandomHorizontalFlip(),\n",
    "        transforms.ToTensor(),\n",
    "        transforms.Normalize(mean=[0.485, 0.456, 0.406], std=[0.229, 0.224, 0.225])\n",
    "    ]),\n",
    "    \"val\": transforms.Compose([\n",
    "        transforms.Resize(256),\n",
    "        transforms.CenterCrop(224),\n",
    "        transforms.ToTensor(),\n",
    "        transforms.Normalize(mean=[0.485, 0.456, 0.406], std=[0.229, 0.224, 0.225])\n",
    "    ]),\n",
    "}\n"
   ]
  },
  {
   "cell_type": "code",
   "execution_count": 66,
   "metadata": {},
   "outputs": [
    {
     "name": "stdout",
     "output_type": "stream",
     "text": [
      "Classes: ['Apple___Apple_scab', 'Apple___Black_rot', 'Apple___Cedar_apple_rust', 'Apple___healthy', 'Blueberry___healthy', 'Cherry_(including_sour)___Powdery_mildew', 'Cherry_(including_sour)___healthy', 'Corn_(maize)___Cercospora_leaf_spot Gray_leaf_spot', 'Corn_(maize)___Common_rust_', 'Corn_(maize)___Northern_Leaf_Blight', 'Corn_(maize)___healthy', 'Grape___Black_rot', 'Grape___Esca_(Black_Measles)', 'Grape___Leaf_blight_(Isariopsis_Leaf_Spot)', 'Grape___healthy', 'Orange___Haunglongbing_(Citrus_greening)', 'Peach___Bacterial_spot', 'Peach___healthy', 'Pepper,_bell___Bacterial_spot', 'Pepper,_bell___healthy', 'Potato___Early_blight', 'Potato___Late_blight', 'Potato___healthy', 'Raspberry___healthy', 'Soybean___healthy', 'Squash___Powdery_mildew', 'Strawberry___Leaf_scorch', 'Strawberry___healthy', 'Tomato___Bacterial_spot', 'Tomato___Early_blight', 'Tomato___Late_blight', 'Tomato___Leaf_Mold', 'Tomato___Septoria_leaf_spot', 'Tomato___Spider_mites Two-spotted_spider_mite', 'Tomato___Target_Spot', 'Tomato___Tomato_Yellow_Leaf_Curl_Virus', 'Tomato___Tomato_mosaic_virus', 'Tomato___healthy']\n"
     ]
    }
   ],
   "source": [
    "\n",
    "# Load datasets\n",
    "data_dir = r'C:\\Users\\kara\\Desktop\\Project\\New Plant Diseases Dataset(Augmented)'\n",
    "datasets = {\n",
    "    \"train\": datasets.ImageFolder(os.path.join(data_dir, \"train\"), data_transforms[\"train\"]),\n",
    "    \"val\": datasets.ImageFolder(os.path.join(data_dir, \"valid\"), data_transforms[\"val\"]),\n",
    "}\n",
    "\n",
    "# Define dataloaders\n",
    "dataloaders = {\n",
    "    x: DataLoader(datasets[x], batch_size=32, shuffle=True, num_workers=4, pin_memory=True)\n",
    "    for x in [\"train\", \"val\"]\n",
    "}\n",
    "\n",
    "# Get class names\n",
    "class_names = datasets[\"train\"].classes\n",
    "print(f\"Classes: {class_names}\")\n"
   ]
  },
  {
   "cell_type": "code",
   "execution_count": 67,
   "metadata": {},
   "outputs": [],
   "source": [
    "\n",
    "# Load a pre-trained model (ResNet18)\n",
    "model = models.resnet18(pretrained=True)\n",
    "num_features = model.fc.in_features\n",
    "model.fc = nn.Linear(num_features, len(class_names))\n",
    "model = model.to(device)\n",
    "\n",
    "# Define loss function and optimizer\n",
    "criterion = nn.CrossEntropyLoss()\n",
    "optimizer = optim.SGD(model.parameters(), lr=0.001, momentum=0.9)\n"
   ]
  },
  {
   "cell_type": "code",
   "execution_count": 68,
   "metadata": {},
   "outputs": [
    {
     "name": "stdout",
     "output_type": "stream",
     "text": [
      "Epoch 1/10\n",
      "----------\n",
      "train Loss: 0.5081 Acc: 0.8748\n",
      "val Loss: 0.0816 Acc: 0.9774\n",
      "Epoch 2/10\n",
      "----------\n",
      "train Loss: 0.1537 Acc: 0.9554\n",
      "val Loss: 0.0496 Acc: 0.9855\n",
      "Epoch 3/10\n",
      "----------\n",
      "train Loss: 0.1148 Acc: 0.9650\n",
      "val Loss: 0.0437 Acc: 0.9874\n",
      "Epoch 4/10\n",
      "----------\n",
      "train Loss: 0.0940 Acc: 0.9712\n",
      "val Loss: 0.0350 Acc: 0.9895\n",
      "Epoch 5/10\n",
      "----------\n",
      "train Loss: 0.0819 Acc: 0.9747\n",
      "val Loss: 0.0273 Acc: 0.9920\n",
      "Epoch 6/10\n",
      "----------\n",
      "train Loss: 0.0740 Acc: 0.9772\n",
      "val Loss: 0.0234 Acc: 0.9939\n",
      "Epoch 7/10\n",
      "----------\n",
      "train Loss: 0.0698 Acc: 0.9790\n",
      "val Loss: 0.0229 Acc: 0.9935\n",
      "Epoch 8/10\n",
      "----------\n",
      "train Loss: 0.0622 Acc: 0.9807\n",
      "val Loss: 0.0240 Acc: 0.9929\n",
      "Epoch 9/10\n",
      "----------\n",
      "train Loss: 0.0575 Acc: 0.9821\n",
      "val Loss: 0.0179 Acc: 0.9956\n",
      "Epoch 10/10\n",
      "----------\n",
      "train Loss: 0.0545 Acc: 0.9831\n",
      "val Loss: 0.0188 Acc: 0.9945\n"
     ]
    }
   ],
   "source": [
    "\n",
    "# Training loop\n",
    "num_epochs = 10\n",
    "for epoch in range(num_epochs):\n",
    "    print(f\"Epoch {epoch+1}/{num_epochs}\")\n",
    "    print(\"-\" * 10)\n",
    "\n",
    "    for phase in [\"train\", \"val\"]:\n",
    "        if phase == \"train\":\n",
    "            model.train()\n",
    "        else:\n",
    "            model.eval()\n",
    "\n",
    "        running_loss = 0.0\n",
    "        running_corrects = 0\n",
    "\n",
    "        for inputs, labels in dataloaders[phase]:\n",
    "\n",
    "            inputs, labels = inputs.to(device, non_blocking=True), labels.to(device, non_blocking=True)\n",
    "\n",
    "            optimizer.zero_grad()\n",
    "\n",
    "            with torch.set_grad_enabled(phase == \"train\"):\n",
    "                outputs = model(inputs)\n",
    "                _, preds = torch.max(outputs, 1)\n",
    "                loss = criterion(outputs, labels)\n",
    "\n",
    "                if phase == \"train\":\n",
    "                    loss.backward()\n",
    "                    optimizer.step()\n",
    "\n",
    "            running_loss += loss.item() * inputs.size(0)\n",
    "            running_corrects += torch.sum(preds == labels.data)\n",
    "\n",
    "        epoch_loss = running_loss / len(datasets[phase])\n",
    "        epoch_acc = running_corrects.double() / len(datasets[phase])\n",
    "\n",
    "        print(f\"{phase} Loss: {epoch_loss:.4f} Acc: {epoch_acc:.4f}\")\n"
   ]
  },
  {
   "cell_type": "code",
   "execution_count": 69,
   "metadata": {},
   "outputs": [
    {
     "name": "stdout",
     "output_type": "stream",
     "text": [
      "Model saved as 'plant_disease_model.pth'\n"
     ]
    }
   ],
   "source": [
    "\n",
    "# Save the model\n",
    "torch.save(model.state_dict(), \"disease_model.pth\")\n",
    "print(\"Model saved as 'disease_model.pth'\")"
   ]
  }
 ],
 "metadata": {
  "kernelspec": {
   "display_name": "Python 3",
   "language": "python",
   "name": "python3"
  },
  "language_info": {
   "codemirror_mode": {
    "name": "ipython",
    "version": 3
   },
   "file_extension": ".py",
   "mimetype": "text/x-python",
   "name": "python",
   "nbconvert_exporter": "python",
   "pygments_lexer": "ipython3",
   "version": "3.12.4"
  }
 },
 "nbformat": 4,
 "nbformat_minor": 2
}
