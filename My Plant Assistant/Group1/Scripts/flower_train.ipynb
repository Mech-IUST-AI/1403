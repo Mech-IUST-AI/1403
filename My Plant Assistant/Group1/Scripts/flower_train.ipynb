{
 "cells": [
  {
   "cell_type": "code",
   "execution_count": 1,
   "metadata": {},
   "outputs": [],
   "source": [
    "import torch\n",
    "import torch.nn as nn\n",
    "import torch.optim as optim\n",
    "from torchvision import datasets, transforms, models\n",
    "from torch.utils.data import DataLoader\n",
    "import os\n",
    "import pickle\n"
   ]
  },
  {
   "cell_type": "code",
   "execution_count": 2,
   "metadata": {},
   "outputs": [],
   "source": [
    "\n",
    "dataset_dir = r'C:\\Users\\kara\\Desktop\\Project\\Flower\\dataset\\organized'\n",
    "train_dir = os.path.join(dataset_dir, 'train')\n",
    "valid_dir = os.path.join(dataset_dir, 'valid')\n",
    "model_save_path = \"flower_model.pth\"\n",
    "labels_save_path = \"flower_labels.pkl\"\n",
    "batch_size = 32\n",
    "num_epochs = 10\n",
    "learning_rate = 0.001"
   ]
  },
  {
   "cell_type": "code",
   "execution_count": 3,
   "metadata": {},
   "outputs": [
    {
     "name": "stdout",
     "output_type": "stream",
     "text": [
      "Using device: cuda\n"
     ]
    }
   ],
   "source": [
    "\n",
    "# Check GPU\n",
    "device = torch.device(\"cuda\" if torch.cuda.is_available() else \"cpu\")\n",
    "print(f\"Using device: {device}\")\n"
   ]
  },
  {
   "cell_type": "code",
   "execution_count": 4,
   "metadata": {},
   "outputs": [],
   "source": [
    "\n",
    "# Data transforms\n",
    "transform_train = transforms.Compose([\n",
    "    transforms.RandomResizedCrop(224),\n",
    "    transforms.RandomHorizontalFlip(),\n",
    "    transforms.ToTensor(),\n",
    "    transforms.Normalize(mean=[0.485, 0.456, 0.406], std=[0.229, 0.224, 0.225])\n",
    "])\n",
    "\n",
    "transform_valid = transforms.Compose([\n",
    "    transforms.Resize(256),\n",
    "    transforms.CenterCrop(224),\n",
    "    transforms.ToTensor(),\n",
    "    transforms.Normalize(mean=[0.485, 0.456, 0.406], std=[0.229, 0.224, 0.225])\n",
    "])\n"
   ]
  },
  {
   "cell_type": "code",
   "execution_count": 5,
   "metadata": {},
   "outputs": [],
   "source": [
    "\n",
    "# Load datasets\n",
    "train_dataset = datasets.ImageFolder(train_dir, transform=transform_train)\n",
    "valid_dataset = datasets.ImageFolder(valid_dir, transform=transform_valid)\n",
    "\n",
    "train_loader = DataLoader(train_dataset, batch_size=batch_size, shuffle=True)\n",
    "valid_loader = DataLoader(valid_dataset, batch_size=batch_size, shuffle=False)\n"
   ]
  },
  {
   "cell_type": "code",
   "execution_count": 6,
   "metadata": {},
   "outputs": [
    {
     "name": "stdout",
     "output_type": "stream",
     "text": [
      "Number of classes: 102\n",
      "Classes: {0: 'alpine sea holly', 1: 'anthurium', 2: 'artichoke', 3: 'azalea', 4: 'ball moss', 5: 'balloon flower', 6: 'barbeton daisy', 7: 'bearded iris', 8: 'bee balm', 9: 'bird of paradise', 10: 'bishop of llandaff', 11: 'black-eyed susan', 12: 'blackberry lily', 13: 'blanket flower', 14: 'bolero deep blue', 15: 'bougainvillea', 16: 'bromelia', 17: 'buttercup', 18: 'californian poppy', 19: 'camellia', 20: 'canna lily', 21: 'canterbury bells', 22: 'cape flower', 23: 'carnation', 24: 'cautleya spicata', 25: 'clematis', 26: \"colt's foot\", 27: 'columbine', 28: 'common dandelion', 29: 'corn poppy', 30: 'cyclamen', 31: 'daffodil', 32: 'desert-rose', 33: 'english marigold', 34: 'fire lily', 35: 'foxglove', 36: 'frangipani', 37: 'fritillary', 38: 'garden phlox', 39: 'gaura', 40: 'gazania', 41: 'geranium', 42: 'giant white arum lily', 43: 'globe thistle', 44: 'globe-flower', 45: 'grape hyacinth', 46: 'great masterwort', 47: 'hard-leaved pocket orchid', 48: 'hibiscus', 49: 'hippeastrum', 50: 'japanese anemone', 51: 'king protea', 52: 'lenten rose', 53: 'lotus', 54: 'love in the mist', 55: 'magnolia', 56: 'mallow', 57: 'marigold', 58: 'mexican aster', 59: 'mexican petunia', 60: 'monkshood', 61: 'moon orchid', 62: 'morning glory', 63: 'orange dahlia', 64: 'osteospermum', 65: 'oxeye daisy', 66: 'passion flower', 67: 'pelargonium', 68: 'peruvian lily', 69: 'petunia', 70: 'pincushion flower', 71: 'pink primrose', 72: 'pink-yellow dahlia', 73: 'poinsettia', 74: 'primula', 75: 'prince of wales feathers', 76: 'purple coneflower', 77: 'red ginger', 78: 'rose', 79: 'ruby-lipped cattleya', 80: 'siam tulip', 81: 'silverbush', 82: 'snapdragon', 83: 'spear thistle', 84: 'spring crocus', 85: 'stemless gentian', 86: 'sunflower', 87: 'sweet pea', 88: 'sweet william', 89: 'sword lily', 90: 'thorn apple', 91: 'tiger lily', 92: 'toad lily', 93: 'tree mallow', 94: 'tree poppy', 95: 'trumpet creeper', 96: 'wallflower', 97: 'water lily', 98: 'watercress', 99: 'wild pansy', 100: 'windflower', 101: 'yellow iris'}\n"
     ]
    }
   ],
   "source": [
    "\n",
    "# Save class labels (flower names)\n",
    "class_to_idx = train_dataset.class_to_idx\n",
    "idx_to_class = {v: k for k, v in class_to_idx.items()}\n",
    "with open(labels_save_path, \"wb\") as f:\n",
    "    pickle.dump(idx_to_class, f)\n",
    "\n",
    "print(f\"Number of classes: {len(idx_to_class)}\")\n",
    "print(f\"Classes: {idx_to_class}\")\n"
   ]
  },
  {
   "cell_type": "code",
   "execution_count": 7,
   "metadata": {},
   "outputs": [
    {
     "name": "stderr",
     "output_type": "stream",
     "text": [
      "c:\\Users\\kara\\AppData\\Local\\Programs\\Python\\Python312\\Lib\\site-packages\\torchvision\\models\\_utils.py:208: UserWarning: The parameter 'pretrained' is deprecated since 0.13 and may be removed in the future, please use 'weights' instead.\n",
      "  warnings.warn(\n",
      "c:\\Users\\kara\\AppData\\Local\\Programs\\Python\\Python312\\Lib\\site-packages\\torchvision\\models\\_utils.py:223: UserWarning: Arguments other than a weight enum or `None` for 'weights' are deprecated since 0.13 and may be removed in the future. The current behavior is equivalent to passing `weights=ResNet18_Weights.IMAGENET1K_V1`. You can also use `weights=ResNet18_Weights.DEFAULT` to get the most up-to-date weights.\n",
      "  warnings.warn(msg)\n"
     ]
    }
   ],
   "source": [
    "\n",
    "# Load pre-trained ResNet-18 model\n",
    "model = models.resnet18(pretrained=True)\n",
    "num_features = model.fc.in_features\n",
    "model.fc = nn.Linear(num_features, len(idx_to_class))\n",
    "model = model.to(device)\n"
   ]
  },
  {
   "cell_type": "code",
   "execution_count": 8,
   "metadata": {},
   "outputs": [],
   "source": [
    "\n",
    "# Loss function and optimizer\n",
    "criterion = nn.CrossEntropyLoss()\n",
    "optimizer = optim.Adam(model.parameters(), lr=learning_rate)\n"
   ]
  },
  {
   "cell_type": "code",
   "execution_count": 9,
   "metadata": {},
   "outputs": [
    {
     "name": "stdout",
     "output_type": "stream",
     "text": [
      "Starting training...\n",
      "Epoch [1/10] - Train Loss: 2.3185, Train Acc: 0.4518, Val Loss: 1.9729, Val Acc: 0.4647\n",
      "Best model saved with Val Loss: 1.9729\n",
      "Epoch [2/10] - Train Loss: 1.2849, Train Acc: 0.6580, Val Loss: 1.2489, Val Acc: 0.6490\n",
      "Best model saved with Val Loss: 1.2489\n",
      "Epoch [3/10] - Train Loss: 0.8948, Train Acc: 0.7570, Val Loss: 1.0405, Val Acc: 0.7167\n",
      "Best model saved with Val Loss: 1.0405\n",
      "Epoch [4/10] - Train Loss: 0.8050, Train Acc: 0.7788, Val Loss: 0.7619, Val Acc: 0.7912\n",
      "Best model saved with Val Loss: 0.7619\n",
      "Epoch [5/10] - Train Loss: 0.7148, Train Acc: 0.8029, Val Loss: 0.5736, Val Acc: 0.8402\n",
      "Best model saved with Val Loss: 0.5736\n",
      "Epoch [6/10] - Train Loss: 0.6423, Train Acc: 0.8227, Val Loss: 0.4284, Val Acc: 0.8824\n",
      "Best model saved with Val Loss: 0.4284\n",
      "Epoch [7/10] - Train Loss: 0.5517, Train Acc: 0.8507, Val Loss: 0.6048, Val Acc: 0.8284\n",
      "Epoch [8/10] - Train Loss: 0.5319, Train Acc: 0.8535, Val Loss: 0.4902, Val Acc: 0.8794\n",
      "Epoch [9/10] - Train Loss: 0.5070, Train Acc: 0.8584, Val Loss: 0.5260, Val Acc: 0.8500\n",
      "Epoch [10/10] - Train Loss: 0.4839, Train Acc: 0.8671, Val Loss: 0.5378, Val Acc: 0.8588\n"
     ]
    }
   ],
   "source": [
    "\n",
    "# Training loop\n",
    "def train_model(model, criterion, optimizer, num_epochs):\n",
    "    best_val_loss = float(\"inf\")\n",
    "    for epoch in range(num_epochs):\n",
    "\n",
    "        model.train()\n",
    "        running_loss = 0.0\n",
    "        correct = 0\n",
    "        total = 0\n",
    "\n",
    "        for images, labels in train_loader:\n",
    "            images, labels = images.to(device), labels.to(device)\n",
    "\n",
    "            optimizer.zero_grad()\n",
    "            outputs = model(images)\n",
    "            loss = criterion(outputs, labels)\n",
    "            loss.backward()\n",
    "            optimizer.step()\n",
    "\n",
    "            running_loss += loss.item() * images.size(0)\n",
    "            _, predicted = outputs.max(1)\n",
    "            correct += predicted.eq(labels).sum().item()\n",
    "            total += labels.size(0)\n",
    "\n",
    "        train_loss = running_loss / len(train_dataset)\n",
    "        train_acc = correct / total\n",
    "\n",
    "        model.eval()\n",
    "        val_loss = 0.0\n",
    "        val_correct = 0\n",
    "        val_total = 0\n",
    "\n",
    "        with torch.no_grad():\n",
    "            for images, labels in valid_loader:\n",
    "                images, labels = images.to(device), labels.to(device)\n",
    "                outputs = model(images)\n",
    "                loss = criterion(outputs, labels)\n",
    "\n",
    "                val_loss += loss.item() * images.size(0)\n",
    "                _, predicted = outputs.max(1)\n",
    "                val_correct += predicted.eq(labels).sum().item()\n",
    "                val_total += labels.size(0)\n",
    "\n",
    "        val_loss = val_loss / len(valid_dataset)\n",
    "        val_acc = val_correct / val_total\n",
    "\n",
    "        print(f\"Epoch [{epoch+1}/{num_epochs}] - \"\n",
    "              f\"Train Loss: {train_loss:.4f}, Train Acc: {train_acc:.4f}, \"\n",
    "              f\"Val Loss: {val_loss:.4f}, Val Acc: {val_acc:.4f}\")\n",
    "\n",
    "        if val_loss < best_val_loss:\n",
    "            best_val_loss = val_loss\n",
    "            torch.save(model.state_dict(), model_save_path)\n",
    "            print(f\"Best model saved with Val Loss: {val_loss:.4f}\")\n",
    "\n",
    "    return model\n",
    "\n",
    "print(\"Starting training...\")\n",
    "model = train_model(model, criterion, optimizer, num_epochs)"
   ]
  }
 ],
 "metadata": {
  "kernelspec": {
   "display_name": "Python 3",
   "language": "python",
   "name": "python3"
  },
  "language_info": {
   "codemirror_mode": {
    "name": "ipython",
    "version": 3
   },
   "file_extension": ".py",
   "mimetype": "text/x-python",
   "name": "python",
   "nbconvert_exporter": "python",
   "pygments_lexer": "ipython3",
   "version": "3.12.4"
  }
 },
 "nbformat": 4,
 "nbformat_minor": 2
}
